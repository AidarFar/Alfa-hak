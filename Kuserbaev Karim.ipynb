{
  "metadata": {
    "colab": {
      "provenance": [],
      "toc_visible": true,
      "gpuType": "T4",
      "include_colab_link": true
    },
    "kernelspec": {
      "name": "python3",
      "display_name": "Python 3",
      "language": "python"
    },
    "language_info": {
      "name": "python",
      "version": "3.10.13",
      "mimetype": "text/x-python",
      "codemirror_mode": {
        "name": "ipython",
        "version": 3
      },
      "pygments_lexer": "ipython3",
      "nbconvert_exporter": "python",
      "file_extension": ".py"
    },
    "accelerator": "GPU",
    "kaggle": {
      "accelerator": "gpu",
      "dataSources": [
        {
          "sourceId": 8075796,
          "sourceType": "datasetVersion",
          "datasetId": 4765896
        },
        {
          "sourceId": 8076927,
          "sourceType": "datasetVersion",
          "datasetId": 4766691
        },
        {
          "sourceId": 8077475,
          "sourceType": "datasetVersion",
          "datasetId": 4767088
        }
      ],
      "dockerImageVersionId": 30683,
      "isInternetEnabled": true,
      "language": "python",
      "sourceType": "notebook",
      "isGpuEnabled": true
    }
  },
  "nbformat_minor": 5,
  "nbformat": 4,
  "cells": [
    {
      "cell_type": "markdown",
      "metadata": {
        "id": "view-in-github",
        "colab_type": "text"
      },
      "source": [
        "<a href=\"https://colab.research.google.com/github/Flyer-DM/Alfa-hak/blob/main/Kuserbaev%20Karim.ipynb\" target=\"_parent\"><img src=\"https://colab.research.google.com/assets/colab-badge.svg\" alt=\"Open In Colab\"/></a>"
      ]
    },
    {
      "cell_type": "markdown",
      "source": [
        "# Karim Kuserbaev"
      ],
      "metadata": {
        "execution": {
          "iopub.execute_input": "2024-02-14T22:50:38.627643Z",
          "iopub.status.busy": "2024-02-14T22:50:38.627255Z",
          "iopub.status.idle": "2024-02-14T22:50:39.496067Z",
          "shell.execute_reply": "2024-02-14T22:50:39.495215Z",
          "shell.execute_reply.started": "2024-02-14T22:50:38.627616Z"
        },
        "id": "8b7bef09-9e86-4b19-bbb7-e0ccb7515328",
        "tags": []
      },
      "id": "8b7bef09-9e86-4b19-bbb7-e0ccb7515328"
    },
    {
      "cell_type": "markdown",
      "source": [
        "## Импорт библиотек и настройки"
      ],
      "metadata": {
        "id": "rD3ExV9eIoYu"
      },
      "id": "rD3ExV9eIoYu"
    },
    {
      "cell_type": "code",
      "source": [
        "from google.colab import drive\n",
        "drive.mount('/content/drive')"
      ],
      "metadata": {
        "id": "fOex1kojKvXx",
        "execution": {
          "iopub.status.busy": "2024-04-09T17:19:45.523674Z",
          "iopub.execute_input": "2024-04-09T17:19:45.524215Z",
          "iopub.status.idle": "2024-04-09T17:19:45.528832Z",
          "shell.execute_reply.started": "2024-04-09T17:19:45.524175Z",
          "shell.execute_reply": "2024-04-09T17:19:45.527757Z"
        },
        "trusted": true
      },
      "execution_count": null,
      "outputs": [],
      "id": "fOex1kojKvXx"
    },
    {
      "cell_type": "code",
      "source": [
        "# pip install catboost"
      ],
      "metadata": {
        "id": "1EzxSNqPHJoB",
        "execution": {
          "iopub.status.busy": "2024-04-09T23:51:42.129471Z",
          "iopub.execute_input": "2024-04-09T23:51:42.129941Z",
          "iopub.status.idle": "2024-04-09T23:51:42.134341Z",
          "shell.execute_reply.started": "2024-04-09T23:51:42.129900Z",
          "shell.execute_reply": "2024-04-09T23:51:42.133404Z"
        },
        "trusted": true
      },
      "execution_count": null,
      "outputs": [],
      "id": "1EzxSNqPHJoB"
    },
    {
      "cell_type": "code",
      "source": [
        "import numpy as np\n",
        "import pandas as pd\n",
        "from lightgbm import LGBMClassifier\n",
        "from sklearn.metrics import roc_auc_score\n",
        "from sklearn.model_selection import train_test_split\n",
        "import os\n",
        "\n",
        "from sklearn.preprocessing import LabelEncoder\n",
        "from catboost import CatBoostClassifier, Pool\n",
        "import catboost\n",
        "from catboost import *\n",
        "from catboost import datasets"
      ],
      "metadata": {
        "id": "e0ddb399-18f4-4051-86c0-39f1c623eef5",
        "tags": [],
        "execution": {
          "iopub.status.busy": "2024-04-10T00:12:52.041558Z",
          "iopub.execute_input": "2024-04-10T00:12:52.041982Z",
          "iopub.status.idle": "2024-04-10T00:12:52.047812Z",
          "shell.execute_reply.started": "2024-04-10T00:12:52.041949Z",
          "shell.execute_reply": "2024-04-10T00:12:52.046874Z"
        },
        "trusted": true
      },
      "execution_count": null,
      "outputs": [],
      "id": "e0ddb399-18f4-4051-86c0-39f1c623eef5"
    },
    {
      "cell_type": "code",
      "source": [
        "!pip freeze | grep \"numpy\\|pandas\\|lightgbm\\|scikit-learn\""
      ],
      "metadata": {
        "colab": {
          "base_uri": "https://localhost:8080/"
        },
        "id": "WremRMspEMJA",
        "outputId": "12857400-663e-4822-9c71-ba9e433de475",
        "execution": {
          "iopub.status.busy": "2024-04-10T00:12:54.079200Z",
          "iopub.execute_input": "2024-04-10T00:12:54.080031Z",
          "iopub.status.idle": "2024-04-10T00:12:56.563763Z",
          "shell.execute_reply.started": "2024-04-10T00:12:54.079996Z",
          "shell.execute_reply": "2024-04-10T00:12:56.562558Z"
        },
        "trusted": true
      },
      "execution_count": null,
      "outputs": [
        {
          "name": "stdout",
          "text": "geopandas==0.14.3\nlightgbm @ file:///tmp/lightgbm/lightgbm-4.2.0-py3-none-manylinux_2_31_x86_64.whl#sha256=26ed21477c12bb26edc4d6d51336cd43d5a8f7daf55ebbe27b0faf50ce96db23\nnumpy @ file:///home/conda/feedstock_root/build_artifacts/numpy_1707225380409/work/dist/numpy-1.26.4-cp310-cp310-linux_x86_64.whl#sha256=51131fd8fc130cd168aecaf1bc0ea85f92e8ffebf211772ceb16ac2e7f10d7ca\npandas==2.1.4\npandas-datareader==0.10.0\npandas-profiling==3.6.6\npandas-summary==0.2.0\npandasql==0.7.3\nscikit-learn==1.2.2\nscikit-learn-intelex==2024.2.0\nsklearn-pandas==2.2.0\n",
          "output_type": "stream"
        }
      ],
      "id": "WremRMspEMJA"
    },
    {
      "cell_type": "code",
      "source": [
        "pd.options.display.max_rows = 93\n",
        "pd.options.display.max_columns = 93"
      ],
      "metadata": {
        "id": "1vQx21i750RZ",
        "execution": {
          "iopub.status.busy": "2024-04-10T00:12:56.565902Z",
          "iopub.execute_input": "2024-04-10T00:12:56.566220Z",
          "iopub.status.idle": "2024-04-10T00:12:56.570802Z",
          "shell.execute_reply.started": "2024-04-10T00:12:56.566192Z",
          "shell.execute_reply": "2024-04-10T00:12:56.569885Z"
        },
        "trusted": true
      },
      "execution_count": null,
      "outputs": [],
      "id": "1vQx21i750RZ"
    },
    {
      "cell_type": "markdown",
      "source": [
        "## Загрузка данных"
      ],
      "metadata": {
        "id": "cbcf3aae-5417-42a3-9ed2-818b9aef0f2f"
      },
      "id": "cbcf3aae-5417-42a3-9ed2-818b9aef0f2f"
    },
    {
      "cell_type": "code",
      "source": [
        "train_df = pd.read_parquet(\"/kaggle/input/alfa-hack-dataset/restored_train.pqt\")\n",
        "test_df = pd.read_parquet(\"/kaggle/input/alfahack-test/restored_test.pqt\")"
      ],
      "metadata": {
        "id": "32c8b1b0-f95e-4cb5-bbc1-c0edb76568c1",
        "tags": [],
        "execution": {
          "iopub.status.busy": "2024-04-10T00:12:56.655100Z",
          "iopub.execute_input": "2024-04-10T00:12:56.655386Z",
          "iopub.status.idle": "2024-04-10T00:12:57.603890Z",
          "shell.execute_reply.started": "2024-04-10T00:12:56.655361Z",
          "shell.execute_reply": "2024-04-10T00:12:57.603002Z"
        },
        "trusted": true
      },
      "execution_count": null,
      "outputs": [],
      "id": "32c8b1b0-f95e-4cb5-bbc1-c0edb76568c1"
    },
    {
      "cell_type": "markdown",
      "source": [
        "## Анализ"
      ],
      "metadata": {
        "id": "jiOJw_AHIx2Z"
      },
      "id": "jiOJw_AHIx2Z"
    },
    {
      "cell_type": "markdown",
      "source": [
        "Размерность"
      ],
      "metadata": {
        "id": "i8aAufHuJLr5"
      },
      "id": "i8aAufHuJLr5"
    },
    {
      "cell_type": "code",
      "source": [
        "train_df.shape, test_df.shape"
      ],
      "metadata": {
        "colab": {
          "base_uri": "https://localhost:8080/"
        },
        "id": "a8_NHz10alDR",
        "outputId": "4d78fdcc-7910-43af-ef1c-da2a14337b03",
        "execution": {
          "iopub.status.busy": "2024-04-10T00:12:59.231986Z",
          "iopub.execute_input": "2024-04-10T00:12:59.232412Z",
          "iopub.status.idle": "2024-04-10T00:12:59.241693Z",
          "shell.execute_reply.started": "2024-04-10T00:12:59.232379Z",
          "shell.execute_reply": "2024-04-10T00:12:59.240604Z"
        },
        "trusted": true
      },
      "execution_count": null,
      "outputs": [
        {
          "execution_count": 111,
          "output_type": "execute_result",
          "data": {
            "text/plain": "((600000, 93), (290120, 92))"
          },
          "metadata": {}
        }
      ],
      "id": "a8_NHz10alDR"
    },
    {
      "cell_type": "code",
      "source": [
        "train_df.head()"
      ],
      "metadata": {
        "colab": {
          "base_uri": "https://localhost:8080/",
          "height": 226
        },
        "id": "8caad423-0805-4b57-9d02-8ae203be2e65",
        "outputId": "3bb2c26b-ae2f-4160-b0e5-ecfbddae0186",
        "tags": [],
        "execution": {
          "iopub.status.busy": "2024-04-10T00:12:59.500730Z",
          "iopub.execute_input": "2024-04-10T00:12:59.501146Z",
          "iopub.status.idle": "2024-04-10T00:12:59.570004Z",
          "shell.execute_reply.started": "2024-04-10T00:12:59.501113Z",
          "shell.execute_reply": "2024-04-10T00:12:59.569100Z"
        },
        "trusted": true
      },
      "execution_count": null,
      "outputs": [
        {
          "execution_count": 112,
          "output_type": "execute_result",
          "data": {
            "text/plain": "   id     date  balance_amt_avg  balance_amt_max  balance_amt_min  \\\n0   0  month_1         0.744845         0.705492         1.287207   \n1   0  month_2         1.049605         0.831916         2.458609   \n2   0  month_3         0.692653         0.740253         0.430042   \n3   1  month_1        -0.081586        -0.091860        -0.114040   \n4   1  month_2        -0.094962        -0.100504        -0.119302   \n\n   balance_amt_day_avg    channel_code     city    city_type  \\\n0             0.748101  channel_code_5  city_23  city_type_0   \n1             1.053805  channel_code_5  city_23  city_type_0   \n2             0.695747  channel_code_5  city_23  city_type_0   \n3            -0.080890  channel_code_2  city_14  city_type_0   \n4            -0.094307  channel_code_2  city_14  city_type_0   \n\n       index_city_code  ogrn_days_end_month  ogrn_days_end_quarter  \\\n0   index_city_code_39            -0.488553              -0.135063   \n1   index_city_code_39            -0.488553              -0.135063   \n2   index_city_code_39            -0.488553              -0.135063   \n3  index_city_code_157             0.324343               1.258747   \n4  index_city_code_157             0.324343               1.258747   \n\n     ogrn_month     ogrn_year  ft_registration_date  max_founderpres  \\\n0  ogrn_month_0   ogrn_year_1              2.452182         2.736461   \n1  ogrn_month_0   ogrn_year_1              2.469917         2.756014   \n2  ogrn_month_0   ogrn_year_1              2.485936         2.773674   \n3  ogrn_month_5  ogrn_year_15              0.174035              NaN   \n4  ogrn_month_5  ogrn_year_15              0.191770              NaN   \n\n   min_founderpres  ogrn_exist_months     okved    segment  sum_of_paym_2m  \\\n0         2.932560           2.437979  okved_30  segment_1        0.942275   \n1         2.952725           2.455375  okved_30  segment_1        0.645704   \n2         2.970940           2.472771  okved_30  segment_1        0.403604   \n3              NaN           0.176508   okved_5  segment_1        0.014051   \n4              NaN           0.193904   okved_5  segment_1       -0.057593   \n\n   sum_of_paym_6m  sum_of_paym_1y  sum_a_oper_1m  cnt_a_oper_1m  \\\n0        0.536013        0.511490      -0.188835       0.417022   \n1        0.536378        0.486425      -0.188835       0.417022   \n2        0.613167        0.480547      -0.188835       0.417022   \n3        0.043800        0.052041      -0.188835       0.417022   \n4        0.035027        0.033554      -0.188835       0.417022   \n\n   sum_b_oper_1m  cnt_b_oper_1m  sum_c_oper_1m  cnt_c_oper_1m  \\\n0      -0.030225       0.435995      -0.103359       0.550798   \n1      -0.030225       0.435995      -0.103359       0.550798   \n2      -0.030225       0.435995      -0.103359       0.550798   \n3      -0.030225       0.435995      -0.103359       0.550798   \n4      -0.030225       0.435995      -0.103359       0.550798   \n\n   sum_deb_d_oper_1m  cnt_deb_d_oper_1m  sum_cred_d_oper_1m  \\\n0          -0.128513           0.967030           -0.063678   \n1          -0.088209           0.969891           -0.063678   \n2          -0.128513           0.967030           -0.063678   \n3          -0.030480           0.972752           -0.063678   \n4           0.569634           0.984197           -0.063678   \n\n   cnt_cred_d_oper_1m  sum_deb_e_oper_1m  cnt_deb_e_oper_1m  \\\n0            0.221993           0.396523           0.893064   \n1            0.221993           0.131636           0.893042   \n2            0.221993           0.485924           0.893049   \n3            0.221993           0.097096           0.893318   \n4            0.221993          -0.011273           0.893231   \n\n   cnt_days_deb_e_oper_1m  sum_cred_e_oper_1m  cnt_cred_e_oper_1m  \\\n0                0.463405            0.505823            0.873795   \n1                0.398889            0.095082            0.873685   \n2                0.560179            0.148894            0.873656   \n3                0.592437            0.113172            0.873641   \n4                0.560179           -0.035901            0.873651   \n\n   cnt_days_cred_e_oper_1m  sum_deb_f_oper_1m  cnt_deb_f_oper_1m  \\\n0                 0.623277          -0.125219           0.771335   \n1                 0.526503          -0.101797           0.771350   \n2                 0.623277          -0.125219           0.771335   \n3                 0.720052          -0.164181           0.771335   \n4                 0.558761          -0.163012           0.771335   \n\n   cnt_days_deb_f_oper_1m  sum_cred_f_oper_1m  cnt_cred_f_oper_1m  \\\n0                0.212528           -0.017983            0.154163   \n1                0.244786           -0.017983            0.154163   \n2                0.212528           -0.017983            0.154163   \n3                0.212528           -0.017983            0.154163   \n4                0.212528           -0.017983            0.154163   \n\n   cnt_days_cred_f_oper_1m  sum_deb_g_oper_1m  cnt_deb_g_oper_1m  \\\n0                 0.777702          -0.041418           0.513943   \n1                 0.777702          -0.041418           0.513943   \n2                 0.777702          -0.041418           0.513943   \n3                 0.777702           0.029705           0.515230   \n4                 0.777702           0.025012           0.516516   \n\n   cnt_days_deb_g_oper_1m  sum_cred_g_oper_1m  cnt_cred_g_oper_1m  \\\n0                0.848818            0.099899            0.226247   \n1                0.848818           -0.021465            0.224276   \n2                0.848818           -0.029795            0.223291   \n3                0.881076           -0.018490            0.224276   \n4                0.913334           -0.027588            0.226247   \n\n   cnt_days_cred_g_oper_1m  sum_deb_h_oper_1m  cnt_deb_h_oper_1m  \\\n0                 0.391439           1.054211           0.654057   \n1                 0.326923           0.419979           0.652830   \n2                 0.294665           1.251369           0.653444   \n3                 0.326923           0.177145           0.661117   \n4                 0.391439          -0.018270           0.658048   \n\n   cnt_days_deb_h_oper_1m  sum_cred_h_oper_1m  cnt_cred_h_oper_1m  \\\n0                0.387856            1.171020            0.648942   \n1                0.258824            0.410410            0.633498   \n2                0.387856            0.552757            0.629637   \n3                0.420114           -0.171047            0.589096   \n4                0.355598           -0.130732            0.600679   \n\n   cnt_days_cred_h_oper_1m  sum_a_oper_3m  cnt_a_oper_3m  sum_b_oper_3m  \\\n0                 0.661628      -0.207082       0.208461      -0.029964   \n1                 0.564854      -0.207082       0.208461      -0.029964   \n2                 0.661628      -0.207082       0.208461      -0.029964   \n3                 0.080983      -0.207082       0.208461      -0.029964   \n4                 0.339047      -0.207082       0.208461      -0.029964   \n\n   cnt_b_oper_3m  sum_c_oper_3m  cnt_c_oper_3m  sum_deb_d_oper_3m  \\\n0       0.517298      -0.119654       0.960017          -0.143207   \n1       0.517298      -0.119654       0.960017          -0.127755   \n2       0.517298      -0.119654       0.960017          -0.127755   \n3       0.517298      -0.119654       0.960017           0.173351   \n4       0.517298      -0.119654       0.960017           0.273818   \n\n   cnt_deb_d_oper_3m  sum_cred_d_oper_3m  cnt_cred_d_oper_3m  \\\n0           0.870124           -0.084701            0.307935   \n1           0.870983           -0.084701            0.307935   \n2           0.870983           -0.084701            0.307935   \n3           0.878708           -0.084701            0.307935   \n4           0.879566           -0.084701            0.307935   \n\n   sum_deb_e_oper_3m  cnt_deb_e_oper_3m  cnt_days_deb_e_oper_3m  \\\n0           0.356556           0.426034                1.201541   \n1           0.302226           0.425993                1.135607   \n2           0.346818           0.425983                1.124618   \n3           0.191491           0.426564                1.333409   \n4           0.068519           0.426323                1.256486   \n\n   sum_cred_e_oper_3m  cnt_cred_e_oper_3m  cnt_days_cred_e_oper_3m  \\\n0            0.435983            0.864246                 1.270517   \n1            0.411205            0.864251                 1.237550   \n2            0.280609            0.864190                 1.226561   \n3            0.195023            0.864168                 1.347440   \n4            0.059520            0.864097                 1.281506   \n\n   sum_deb_f_oper_3m  cnt_deb_f_oper_3m  cnt_days_deb_f_oper_3m  \\\n0          -0.152107           0.286074                0.891856   \n1          -0.142187           0.286081                0.902845   \n2          -0.142187           0.286081                0.902845   \n3          -0.199386           0.286074                0.880867   \n4          -0.194911           0.286081                0.891856   \n\n   sum_cred_f_oper_3m  cnt_cred_f_oper_3m  cnt_days_cred_f_oper_3m  \\\n0           -0.025646             0.24851                 0.038562   \n1           -0.025646             0.24851                 0.038562   \n2           -0.025646             0.24851                 0.038562   \n3           -0.025646             0.24851                 0.038562   \n4           -0.025646             0.24851                 0.038562   \n\n   sum_deb_g_oper_3m  cnt_deb_g_oper_3m  cnt_days_deb_g_oper_3m  \\\n0          -0.040649           0.458055                0.728507   \n1          -0.040649           0.458055                0.728507   \n2          -0.040649           0.458055                0.728507   \n3           0.051081           0.458947                0.750485   \n4           0.073798           0.459838                0.772463   \n\n   sum_cred_g_oper_3m  cnt_cred_g_oper_3m  cnt_days_cred_g_oper_3m  \\\n0            0.186820            0.951166                 0.568681   \n1            0.125043            0.948812                 0.499716   \n2            0.033607            0.946458                 0.442244   \n3           -0.024561            0.945281                 0.407762   \n4           -0.023981            0.946066                 0.430750   \n\n   sum_deb_h_oper_3m  cnt_deb_h_oper_3m  cnt_days_deb_h_oper_3m  \\\n0           0.897565           0.553624                0.774354   \n1           0.785029           0.551904                0.696576   \n2           0.877050           0.551044                0.663243   \n3           0.369318           0.567093                0.785465   \n4           0.067275           0.559928                0.696576   \n\n   sum_cred_h_oper_3m  cnt_cred_h_oper_3m  cnt_days_cred_h_oper_3m  \\\n0            0.936506            0.295984                 0.967947   \n1            0.990157            0.298873                 0.945969   \n2            0.810065            0.294829                 0.956958   \n3           -0.184002            0.253523                 0.462452   \n4           -0.183854            0.255545                 0.495419   \n\n  start_cluster end_cluster  \n0        {α, γ}     {other}  \n1        {α, γ}     {other}  \n2        {α, γ}     {other}  \n3       {other}     {other}  \n4       {other}     {other}  ",
            "text/html": "<div>\n<style scoped>\n    .dataframe tbody tr th:only-of-type {\n        vertical-align: middle;\n    }\n\n    .dataframe tbody tr th {\n        vertical-align: top;\n    }\n\n    .dataframe thead th {\n        text-align: right;\n    }\n</style>\n<table border=\"1\" class=\"dataframe\">\n  <thead>\n    <tr style=\"text-align: right;\">\n      <th></th>\n      <th>id</th>\n      <th>date</th>\n      <th>balance_amt_avg</th>\n      <th>balance_amt_max</th>\n      <th>balance_amt_min</th>\n      <th>balance_amt_day_avg</th>\n      <th>channel_code</th>\n      <th>city</th>\n      <th>city_type</th>\n      <th>index_city_code</th>\n      <th>ogrn_days_end_month</th>\n      <th>ogrn_days_end_quarter</th>\n      <th>ogrn_month</th>\n      <th>ogrn_year</th>\n      <th>ft_registration_date</th>\n      <th>max_founderpres</th>\n      <th>min_founderpres</th>\n      <th>ogrn_exist_months</th>\n      <th>okved</th>\n      <th>segment</th>\n      <th>sum_of_paym_2m</th>\n      <th>sum_of_paym_6m</th>\n      <th>sum_of_paym_1y</th>\n      <th>sum_a_oper_1m</th>\n      <th>cnt_a_oper_1m</th>\n      <th>sum_b_oper_1m</th>\n      <th>cnt_b_oper_1m</th>\n      <th>sum_c_oper_1m</th>\n      <th>cnt_c_oper_1m</th>\n      <th>sum_deb_d_oper_1m</th>\n      <th>cnt_deb_d_oper_1m</th>\n      <th>sum_cred_d_oper_1m</th>\n      <th>cnt_cred_d_oper_1m</th>\n      <th>sum_deb_e_oper_1m</th>\n      <th>cnt_deb_e_oper_1m</th>\n      <th>cnt_days_deb_e_oper_1m</th>\n      <th>sum_cred_e_oper_1m</th>\n      <th>cnt_cred_e_oper_1m</th>\n      <th>cnt_days_cred_e_oper_1m</th>\n      <th>sum_deb_f_oper_1m</th>\n      <th>cnt_deb_f_oper_1m</th>\n      <th>cnt_days_deb_f_oper_1m</th>\n      <th>sum_cred_f_oper_1m</th>\n      <th>cnt_cred_f_oper_1m</th>\n      <th>cnt_days_cred_f_oper_1m</th>\n      <th>sum_deb_g_oper_1m</th>\n      <th>cnt_deb_g_oper_1m</th>\n      <th>cnt_days_deb_g_oper_1m</th>\n      <th>sum_cred_g_oper_1m</th>\n      <th>cnt_cred_g_oper_1m</th>\n      <th>cnt_days_cred_g_oper_1m</th>\n      <th>sum_deb_h_oper_1m</th>\n      <th>cnt_deb_h_oper_1m</th>\n      <th>cnt_days_deb_h_oper_1m</th>\n      <th>sum_cred_h_oper_1m</th>\n      <th>cnt_cred_h_oper_1m</th>\n      <th>cnt_days_cred_h_oper_1m</th>\n      <th>sum_a_oper_3m</th>\n      <th>cnt_a_oper_3m</th>\n      <th>sum_b_oper_3m</th>\n      <th>cnt_b_oper_3m</th>\n      <th>sum_c_oper_3m</th>\n      <th>cnt_c_oper_3m</th>\n      <th>sum_deb_d_oper_3m</th>\n      <th>cnt_deb_d_oper_3m</th>\n      <th>sum_cred_d_oper_3m</th>\n      <th>cnt_cred_d_oper_3m</th>\n      <th>sum_deb_e_oper_3m</th>\n      <th>cnt_deb_e_oper_3m</th>\n      <th>cnt_days_deb_e_oper_3m</th>\n      <th>sum_cred_e_oper_3m</th>\n      <th>cnt_cred_e_oper_3m</th>\n      <th>cnt_days_cred_e_oper_3m</th>\n      <th>sum_deb_f_oper_3m</th>\n      <th>cnt_deb_f_oper_3m</th>\n      <th>cnt_days_deb_f_oper_3m</th>\n      <th>sum_cred_f_oper_3m</th>\n      <th>cnt_cred_f_oper_3m</th>\n      <th>cnt_days_cred_f_oper_3m</th>\n      <th>sum_deb_g_oper_3m</th>\n      <th>cnt_deb_g_oper_3m</th>\n      <th>cnt_days_deb_g_oper_3m</th>\n      <th>sum_cred_g_oper_3m</th>\n      <th>cnt_cred_g_oper_3m</th>\n      <th>cnt_days_cred_g_oper_3m</th>\n      <th>sum_deb_h_oper_3m</th>\n      <th>cnt_deb_h_oper_3m</th>\n      <th>cnt_days_deb_h_oper_3m</th>\n      <th>sum_cred_h_oper_3m</th>\n      <th>cnt_cred_h_oper_3m</th>\n      <th>cnt_days_cred_h_oper_3m</th>\n      <th>start_cluster</th>\n      <th>end_cluster</th>\n    </tr>\n  </thead>\n  <tbody>\n    <tr>\n      <th>0</th>\n      <td>0</td>\n      <td>month_1</td>\n      <td>0.744845</td>\n      <td>0.705492</td>\n      <td>1.287207</td>\n      <td>0.748101</td>\n      <td>channel_code_5</td>\n      <td>city_23</td>\n      <td>city_type_0</td>\n      <td>index_city_code_39</td>\n      <td>-0.488553</td>\n      <td>-0.135063</td>\n      <td>ogrn_month_0</td>\n      <td>ogrn_year_1</td>\n      <td>2.452182</td>\n      <td>2.736461</td>\n      <td>2.932560</td>\n      <td>2.437979</td>\n      <td>okved_30</td>\n      <td>segment_1</td>\n      <td>0.942275</td>\n      <td>0.536013</td>\n      <td>0.511490</td>\n      <td>-0.188835</td>\n      <td>0.417022</td>\n      <td>-0.030225</td>\n      <td>0.435995</td>\n      <td>-0.103359</td>\n      <td>0.550798</td>\n      <td>-0.128513</td>\n      <td>0.967030</td>\n      <td>-0.063678</td>\n      <td>0.221993</td>\n      <td>0.396523</td>\n      <td>0.893064</td>\n      <td>0.463405</td>\n      <td>0.505823</td>\n      <td>0.873795</td>\n      <td>0.623277</td>\n      <td>-0.125219</td>\n      <td>0.771335</td>\n      <td>0.212528</td>\n      <td>-0.017983</td>\n      <td>0.154163</td>\n      <td>0.777702</td>\n      <td>-0.041418</td>\n      <td>0.513943</td>\n      <td>0.848818</td>\n      <td>0.099899</td>\n      <td>0.226247</td>\n      <td>0.391439</td>\n      <td>1.054211</td>\n      <td>0.654057</td>\n      <td>0.387856</td>\n      <td>1.171020</td>\n      <td>0.648942</td>\n      <td>0.661628</td>\n      <td>-0.207082</td>\n      <td>0.208461</td>\n      <td>-0.029964</td>\n      <td>0.517298</td>\n      <td>-0.119654</td>\n      <td>0.960017</td>\n      <td>-0.143207</td>\n      <td>0.870124</td>\n      <td>-0.084701</td>\n      <td>0.307935</td>\n      <td>0.356556</td>\n      <td>0.426034</td>\n      <td>1.201541</td>\n      <td>0.435983</td>\n      <td>0.864246</td>\n      <td>1.270517</td>\n      <td>-0.152107</td>\n      <td>0.286074</td>\n      <td>0.891856</td>\n      <td>-0.025646</td>\n      <td>0.24851</td>\n      <td>0.038562</td>\n      <td>-0.040649</td>\n      <td>0.458055</td>\n      <td>0.728507</td>\n      <td>0.186820</td>\n      <td>0.951166</td>\n      <td>0.568681</td>\n      <td>0.897565</td>\n      <td>0.553624</td>\n      <td>0.774354</td>\n      <td>0.936506</td>\n      <td>0.295984</td>\n      <td>0.967947</td>\n      <td>{α, γ}</td>\n      <td>{other}</td>\n    </tr>\n    <tr>\n      <th>1</th>\n      <td>0</td>\n      <td>month_2</td>\n      <td>1.049605</td>\n      <td>0.831916</td>\n      <td>2.458609</td>\n      <td>1.053805</td>\n      <td>channel_code_5</td>\n      <td>city_23</td>\n      <td>city_type_0</td>\n      <td>index_city_code_39</td>\n      <td>-0.488553</td>\n      <td>-0.135063</td>\n      <td>ogrn_month_0</td>\n      <td>ogrn_year_1</td>\n      <td>2.469917</td>\n      <td>2.756014</td>\n      <td>2.952725</td>\n      <td>2.455375</td>\n      <td>okved_30</td>\n      <td>segment_1</td>\n      <td>0.645704</td>\n      <td>0.536378</td>\n      <td>0.486425</td>\n      <td>-0.188835</td>\n      <td>0.417022</td>\n      <td>-0.030225</td>\n      <td>0.435995</td>\n      <td>-0.103359</td>\n      <td>0.550798</td>\n      <td>-0.088209</td>\n      <td>0.969891</td>\n      <td>-0.063678</td>\n      <td>0.221993</td>\n      <td>0.131636</td>\n      <td>0.893042</td>\n      <td>0.398889</td>\n      <td>0.095082</td>\n      <td>0.873685</td>\n      <td>0.526503</td>\n      <td>-0.101797</td>\n      <td>0.771350</td>\n      <td>0.244786</td>\n      <td>-0.017983</td>\n      <td>0.154163</td>\n      <td>0.777702</td>\n      <td>-0.041418</td>\n      <td>0.513943</td>\n      <td>0.848818</td>\n      <td>-0.021465</td>\n      <td>0.224276</td>\n      <td>0.326923</td>\n      <td>0.419979</td>\n      <td>0.652830</td>\n      <td>0.258824</td>\n      <td>0.410410</td>\n      <td>0.633498</td>\n      <td>0.564854</td>\n      <td>-0.207082</td>\n      <td>0.208461</td>\n      <td>-0.029964</td>\n      <td>0.517298</td>\n      <td>-0.119654</td>\n      <td>0.960017</td>\n      <td>-0.127755</td>\n      <td>0.870983</td>\n      <td>-0.084701</td>\n      <td>0.307935</td>\n      <td>0.302226</td>\n      <td>0.425993</td>\n      <td>1.135607</td>\n      <td>0.411205</td>\n      <td>0.864251</td>\n      <td>1.237550</td>\n      <td>-0.142187</td>\n      <td>0.286081</td>\n      <td>0.902845</td>\n      <td>-0.025646</td>\n      <td>0.24851</td>\n      <td>0.038562</td>\n      <td>-0.040649</td>\n      <td>0.458055</td>\n      <td>0.728507</td>\n      <td>0.125043</td>\n      <td>0.948812</td>\n      <td>0.499716</td>\n      <td>0.785029</td>\n      <td>0.551904</td>\n      <td>0.696576</td>\n      <td>0.990157</td>\n      <td>0.298873</td>\n      <td>0.945969</td>\n      <td>{α, γ}</td>\n      <td>{other}</td>\n    </tr>\n    <tr>\n      <th>2</th>\n      <td>0</td>\n      <td>month_3</td>\n      <td>0.692653</td>\n      <td>0.740253</td>\n      <td>0.430042</td>\n      <td>0.695747</td>\n      <td>channel_code_5</td>\n      <td>city_23</td>\n      <td>city_type_0</td>\n      <td>index_city_code_39</td>\n      <td>-0.488553</td>\n      <td>-0.135063</td>\n      <td>ogrn_month_0</td>\n      <td>ogrn_year_1</td>\n      <td>2.485936</td>\n      <td>2.773674</td>\n      <td>2.970940</td>\n      <td>2.472771</td>\n      <td>okved_30</td>\n      <td>segment_1</td>\n      <td>0.403604</td>\n      <td>0.613167</td>\n      <td>0.480547</td>\n      <td>-0.188835</td>\n      <td>0.417022</td>\n      <td>-0.030225</td>\n      <td>0.435995</td>\n      <td>-0.103359</td>\n      <td>0.550798</td>\n      <td>-0.128513</td>\n      <td>0.967030</td>\n      <td>-0.063678</td>\n      <td>0.221993</td>\n      <td>0.485924</td>\n      <td>0.893049</td>\n      <td>0.560179</td>\n      <td>0.148894</td>\n      <td>0.873656</td>\n      <td>0.623277</td>\n      <td>-0.125219</td>\n      <td>0.771335</td>\n      <td>0.212528</td>\n      <td>-0.017983</td>\n      <td>0.154163</td>\n      <td>0.777702</td>\n      <td>-0.041418</td>\n      <td>0.513943</td>\n      <td>0.848818</td>\n      <td>-0.029795</td>\n      <td>0.223291</td>\n      <td>0.294665</td>\n      <td>1.251369</td>\n      <td>0.653444</td>\n      <td>0.387856</td>\n      <td>0.552757</td>\n      <td>0.629637</td>\n      <td>0.661628</td>\n      <td>-0.207082</td>\n      <td>0.208461</td>\n      <td>-0.029964</td>\n      <td>0.517298</td>\n      <td>-0.119654</td>\n      <td>0.960017</td>\n      <td>-0.127755</td>\n      <td>0.870983</td>\n      <td>-0.084701</td>\n      <td>0.307935</td>\n      <td>0.346818</td>\n      <td>0.425983</td>\n      <td>1.124618</td>\n      <td>0.280609</td>\n      <td>0.864190</td>\n      <td>1.226561</td>\n      <td>-0.142187</td>\n      <td>0.286081</td>\n      <td>0.902845</td>\n      <td>-0.025646</td>\n      <td>0.24851</td>\n      <td>0.038562</td>\n      <td>-0.040649</td>\n      <td>0.458055</td>\n      <td>0.728507</td>\n      <td>0.033607</td>\n      <td>0.946458</td>\n      <td>0.442244</td>\n      <td>0.877050</td>\n      <td>0.551044</td>\n      <td>0.663243</td>\n      <td>0.810065</td>\n      <td>0.294829</td>\n      <td>0.956958</td>\n      <td>{α, γ}</td>\n      <td>{other}</td>\n    </tr>\n    <tr>\n      <th>3</th>\n      <td>1</td>\n      <td>month_1</td>\n      <td>-0.081586</td>\n      <td>-0.091860</td>\n      <td>-0.114040</td>\n      <td>-0.080890</td>\n      <td>channel_code_2</td>\n      <td>city_14</td>\n      <td>city_type_0</td>\n      <td>index_city_code_157</td>\n      <td>0.324343</td>\n      <td>1.258747</td>\n      <td>ogrn_month_5</td>\n      <td>ogrn_year_15</td>\n      <td>0.174035</td>\n      <td>NaN</td>\n      <td>NaN</td>\n      <td>0.176508</td>\n      <td>okved_5</td>\n      <td>segment_1</td>\n      <td>0.014051</td>\n      <td>0.043800</td>\n      <td>0.052041</td>\n      <td>-0.188835</td>\n      <td>0.417022</td>\n      <td>-0.030225</td>\n      <td>0.435995</td>\n      <td>-0.103359</td>\n      <td>0.550798</td>\n      <td>-0.030480</td>\n      <td>0.972752</td>\n      <td>-0.063678</td>\n      <td>0.221993</td>\n      <td>0.097096</td>\n      <td>0.893318</td>\n      <td>0.592437</td>\n      <td>0.113172</td>\n      <td>0.873641</td>\n      <td>0.720052</td>\n      <td>-0.164181</td>\n      <td>0.771335</td>\n      <td>0.212528</td>\n      <td>-0.017983</td>\n      <td>0.154163</td>\n      <td>0.777702</td>\n      <td>0.029705</td>\n      <td>0.515230</td>\n      <td>0.881076</td>\n      <td>-0.018490</td>\n      <td>0.224276</td>\n      <td>0.326923</td>\n      <td>0.177145</td>\n      <td>0.661117</td>\n      <td>0.420114</td>\n      <td>-0.171047</td>\n      <td>0.589096</td>\n      <td>0.080983</td>\n      <td>-0.207082</td>\n      <td>0.208461</td>\n      <td>-0.029964</td>\n      <td>0.517298</td>\n      <td>-0.119654</td>\n      <td>0.960017</td>\n      <td>0.173351</td>\n      <td>0.878708</td>\n      <td>-0.084701</td>\n      <td>0.307935</td>\n      <td>0.191491</td>\n      <td>0.426564</td>\n      <td>1.333409</td>\n      <td>0.195023</td>\n      <td>0.864168</td>\n      <td>1.347440</td>\n      <td>-0.199386</td>\n      <td>0.286074</td>\n      <td>0.880867</td>\n      <td>-0.025646</td>\n      <td>0.24851</td>\n      <td>0.038562</td>\n      <td>0.051081</td>\n      <td>0.458947</td>\n      <td>0.750485</td>\n      <td>-0.024561</td>\n      <td>0.945281</td>\n      <td>0.407762</td>\n      <td>0.369318</td>\n      <td>0.567093</td>\n      <td>0.785465</td>\n      <td>-0.184002</td>\n      <td>0.253523</td>\n      <td>0.462452</td>\n      <td>{other}</td>\n      <td>{other}</td>\n    </tr>\n    <tr>\n      <th>4</th>\n      <td>1</td>\n      <td>month_2</td>\n      <td>-0.094962</td>\n      <td>-0.100504</td>\n      <td>-0.119302</td>\n      <td>-0.094307</td>\n      <td>channel_code_2</td>\n      <td>city_14</td>\n      <td>city_type_0</td>\n      <td>index_city_code_157</td>\n      <td>0.324343</td>\n      <td>1.258747</td>\n      <td>ogrn_month_5</td>\n      <td>ogrn_year_15</td>\n      <td>0.191770</td>\n      <td>NaN</td>\n      <td>NaN</td>\n      <td>0.193904</td>\n      <td>okved_5</td>\n      <td>segment_1</td>\n      <td>-0.057593</td>\n      <td>0.035027</td>\n      <td>0.033554</td>\n      <td>-0.188835</td>\n      <td>0.417022</td>\n      <td>-0.030225</td>\n      <td>0.435995</td>\n      <td>-0.103359</td>\n      <td>0.550798</td>\n      <td>0.569634</td>\n      <td>0.984197</td>\n      <td>-0.063678</td>\n      <td>0.221993</td>\n      <td>-0.011273</td>\n      <td>0.893231</td>\n      <td>0.560179</td>\n      <td>-0.035901</td>\n      <td>0.873651</td>\n      <td>0.558761</td>\n      <td>-0.163012</td>\n      <td>0.771335</td>\n      <td>0.212528</td>\n      <td>-0.017983</td>\n      <td>0.154163</td>\n      <td>0.777702</td>\n      <td>0.025012</td>\n      <td>0.516516</td>\n      <td>0.913334</td>\n      <td>-0.027588</td>\n      <td>0.226247</td>\n      <td>0.391439</td>\n      <td>-0.018270</td>\n      <td>0.658048</td>\n      <td>0.355598</td>\n      <td>-0.130732</td>\n      <td>0.600679</td>\n      <td>0.339047</td>\n      <td>-0.207082</td>\n      <td>0.208461</td>\n      <td>-0.029964</td>\n      <td>0.517298</td>\n      <td>-0.119654</td>\n      <td>0.960017</td>\n      <td>0.273818</td>\n      <td>0.879566</td>\n      <td>-0.084701</td>\n      <td>0.307935</td>\n      <td>0.068519</td>\n      <td>0.426323</td>\n      <td>1.256486</td>\n      <td>0.059520</td>\n      <td>0.864097</td>\n      <td>1.281506</td>\n      <td>-0.194911</td>\n      <td>0.286081</td>\n      <td>0.891856</td>\n      <td>-0.025646</td>\n      <td>0.24851</td>\n      <td>0.038562</td>\n      <td>0.073798</td>\n      <td>0.459838</td>\n      <td>0.772463</td>\n      <td>-0.023981</td>\n      <td>0.946066</td>\n      <td>0.430750</td>\n      <td>0.067275</td>\n      <td>0.559928</td>\n      <td>0.696576</td>\n      <td>-0.183854</td>\n      <td>0.255545</td>\n      <td>0.495419</td>\n      <td>{other}</td>\n      <td>{other}</td>\n    </tr>\n  </tbody>\n</table>\n</div>"
          },
          "metadata": {}
        }
      ],
      "id": "8caad423-0805-4b57-9d02-8ae203be2e65"
    },
    {
      "cell_type": "markdown",
      "source": [
        "Проверка на дубликаты"
      ],
      "metadata": {
        "id": "jbrhURiaJNnR"
      },
      "id": "jbrhURiaJNnR"
    },
    {
      "cell_type": "code",
      "source": [
        "train_df.duplicated(keep='first').sum()"
      ],
      "metadata": {
        "colab": {
          "base_uri": "https://localhost:8080/"
        },
        "id": "ap_B4aRj6FdW",
        "outputId": "a6de8990-4b66-4e63-c51b-4edca838dd19",
        "execution": {
          "iopub.status.busy": "2024-04-10T00:13:00.838045Z",
          "iopub.execute_input": "2024-04-10T00:13:00.838368Z",
          "iopub.status.idle": "2024-04-10T00:13:02.703308Z",
          "shell.execute_reply.started": "2024-04-10T00:13:00.838342Z",
          "shell.execute_reply": "2024-04-10T00:13:02.702285Z"
        },
        "trusted": true
      },
      "execution_count": null,
      "outputs": [
        {
          "execution_count": 113,
          "output_type": "execute_result",
          "data": {
            "text/plain": "0"
          },
          "metadata": {}
        }
      ],
      "id": "ap_B4aRj6FdW"
    },
    {
      "cell_type": "markdown",
      "source": [
        "Проверка на пропуски"
      ],
      "metadata": {
        "id": "MrQ-kj6yJSLD"
      },
      "id": "MrQ-kj6yJSLD"
    },
    {
      "cell_type": "code",
      "source": [
        "train_df.isna().sum()"
      ],
      "metadata": {
        "colab": {
          "base_uri": "https://localhost:8080/"
        },
        "id": "Zx8wrKkE5Pdj",
        "outputId": "6708b689-9824-4862-e4ad-b33553fa2061",
        "execution": {
          "iopub.status.busy": "2024-04-10T00:13:02.704717Z",
          "iopub.execute_input": "2024-04-10T00:13:02.705009Z",
          "iopub.status.idle": "2024-04-10T00:13:03.361031Z",
          "shell.execute_reply.started": "2024-04-10T00:13:02.704985Z",
          "shell.execute_reply": "2024-04-10T00:13:03.360108Z"
        },
        "trusted": true
      },
      "execution_count": null,
      "outputs": [
        {
          "execution_count": 114,
          "output_type": "execute_result",
          "data": {
            "text/plain": "id                              0\ndate                            0\nbalance_amt_avg             65577\nbalance_amt_max             65577\nbalance_amt_min             65577\nbalance_amt_day_avg         65577\nchannel_code                    0\ncity                            0\ncity_type                       0\nindex_city_code                 0\nogrn_days_end_month         31473\nogrn_days_end_quarter       31473\nogrn_month                      0\nogrn_year                       0\nft_registration_date        31360\nmax_founderpres            335592\nmin_founderpres            335592\nogrn_exist_months           31473\nokved                           0\nsegment                         0\nsum_of_paym_2m             148884\nsum_of_paym_6m             148884\nsum_of_paym_1y             148884\nsum_a_oper_1m                   0\ncnt_a_oper_1m              196181\nsum_b_oper_1m                   0\ncnt_b_oper_1m              196181\nsum_c_oper_1m                   0\ncnt_c_oper_1m              196181\nsum_deb_d_oper_1m               0\ncnt_deb_d_oper_1m          196181\nsum_cred_d_oper_1m              0\ncnt_cred_d_oper_1m         196181\nsum_deb_e_oper_1m               0\ncnt_deb_e_oper_1m          196181\ncnt_days_deb_e_oper_1m     196181\nsum_cred_e_oper_1m              0\ncnt_cred_e_oper_1m         196181\ncnt_days_cred_e_oper_1m    196181\nsum_deb_f_oper_1m               0\ncnt_deb_f_oper_1m          196181\ncnt_days_deb_f_oper_1m     196181\nsum_cred_f_oper_1m              0\ncnt_cred_f_oper_1m         196181\ncnt_days_cred_f_oper_1m    196181\nsum_deb_g_oper_1m               0\ncnt_deb_g_oper_1m          196181\ncnt_days_deb_g_oper_1m     196181\nsum_cred_g_oper_1m              0\ncnt_cred_g_oper_1m         196181\ncnt_days_cred_g_oper_1m    196181\nsum_deb_h_oper_1m               0\ncnt_deb_h_oper_1m          196181\ncnt_days_deb_h_oper_1m     196181\nsum_cred_h_oper_1m              0\ncnt_cred_h_oper_1m         196181\ncnt_days_cred_h_oper_1m    196181\nsum_a_oper_3m                   0\ncnt_a_oper_3m              165252\nsum_b_oper_3m                   0\ncnt_b_oper_3m              165252\nsum_c_oper_3m                   0\ncnt_c_oper_3m              165252\nsum_deb_d_oper_3m               0\ncnt_deb_d_oper_3m          165252\nsum_cred_d_oper_3m              0\ncnt_cred_d_oper_3m         165252\nsum_deb_e_oper_3m               0\ncnt_deb_e_oper_3m          165252\ncnt_days_deb_e_oper_3m     165252\nsum_cred_e_oper_3m              0\ncnt_cred_e_oper_3m         165252\ncnt_days_cred_e_oper_3m    165252\nsum_deb_f_oper_3m               0\ncnt_deb_f_oper_3m          165252\ncnt_days_deb_f_oper_3m     165252\nsum_cred_f_oper_3m              0\ncnt_cred_f_oper_3m         165252\ncnt_days_cred_f_oper_3m    165252\nsum_deb_g_oper_3m               0\ncnt_deb_g_oper_3m          165252\ncnt_days_deb_g_oper_3m     165252\nsum_cred_g_oper_3m              0\ncnt_cred_g_oper_3m         165252\ncnt_days_cred_g_oper_3m    165252\nsum_deb_h_oper_3m               0\ncnt_deb_h_oper_3m          165252\ncnt_days_deb_h_oper_3m     165252\nsum_cred_h_oper_3m              0\ncnt_cred_h_oper_3m         165252\ncnt_days_cred_h_oper_3m    165252\nstart_cluster                   0\nend_cluster                     0\ndtype: int64"
          },
          "metadata": {}
        }
      ],
      "id": "Zx8wrKkE5Pdj"
    },
    {
      "cell_type": "code",
      "source": [
        "test_df.isna().sum()"
      ],
      "metadata": {
        "colab": {
          "base_uri": "https://localhost:8080/"
        },
        "id": "-h6Lq3vxIW7q",
        "outputId": "6ce9b7b0-8fc1-4544-e46c-a927a81dda6a",
        "execution": {
          "iopub.status.busy": "2024-04-10T00:13:03.459697Z",
          "iopub.execute_input": "2024-04-10T00:13:03.460367Z",
          "iopub.status.idle": "2024-04-10T00:13:03.754817Z",
          "shell.execute_reply.started": "2024-04-10T00:13:03.460339Z",
          "shell.execute_reply": "2024-04-10T00:13:03.753905Z"
        },
        "trusted": true
      },
      "execution_count": null,
      "outputs": [
        {
          "execution_count": 115,
          "output_type": "execute_result",
          "data": {
            "text/plain": "id                              0\ndate                            0\nbalance_amt_avg             29483\nbalance_amt_max             29483\nbalance_amt_min             29483\nbalance_amt_day_avg         29483\nchannel_code                    0\ncity                            0\ncity_type                       0\nindex_city_code                 0\nogrn_days_end_month         14278\nogrn_days_end_quarter       14278\nogrn_month                      0\nogrn_year                       0\nft_registration_date        14838\nmax_founderpres            161192\nmin_founderpres            161192\nogrn_exist_months           14278\nokved                           0\nsegment                         0\nsum_of_paym_2m              73461\nsum_of_paym_6m              73461\nsum_of_paym_1y              73461\nsum_a_oper_1m                   0\ncnt_a_oper_1m               95210\nsum_b_oper_1m                   0\ncnt_b_oper_1m               95210\nsum_c_oper_1m                   0\ncnt_c_oper_1m               95210\nsum_deb_d_oper_1m               0\ncnt_deb_d_oper_1m           95210\nsum_cred_d_oper_1m              0\ncnt_cred_d_oper_1m          95210\nsum_deb_e_oper_1m               0\ncnt_deb_e_oper_1m           95210\ncnt_days_deb_e_oper_1m      95210\nsum_cred_e_oper_1m              0\ncnt_cred_e_oper_1m          95210\ncnt_days_cred_e_oper_1m     95210\nsum_deb_f_oper_1m               0\ncnt_deb_f_oper_1m           95210\ncnt_days_deb_f_oper_1m      95210\nsum_cred_f_oper_1m              0\ncnt_cred_f_oper_1m          95210\ncnt_days_cred_f_oper_1m     95210\nsum_deb_g_oper_1m               0\ncnt_deb_g_oper_1m           95210\ncnt_days_deb_g_oper_1m      95210\nsum_cred_g_oper_1m              0\ncnt_cred_g_oper_1m          95210\ncnt_days_cred_g_oper_1m     95210\nsum_deb_h_oper_1m               0\ncnt_deb_h_oper_1m           95210\ncnt_days_deb_h_oper_1m      95210\nsum_cred_h_oper_1m              0\ncnt_cred_h_oper_1m          95210\ncnt_days_cred_h_oper_1m     95210\nsum_a_oper_3m                   0\ncnt_a_oper_3m               79567\nsum_b_oper_3m                   0\ncnt_b_oper_3m               79567\nsum_c_oper_3m                   0\ncnt_c_oper_3m               79567\nsum_deb_d_oper_3m               0\ncnt_deb_d_oper_3m           79567\nsum_cred_d_oper_3m              0\ncnt_cred_d_oper_3m          79567\nsum_deb_e_oper_3m               0\ncnt_deb_e_oper_3m           79567\ncnt_days_deb_e_oper_3m      79567\nsum_cred_e_oper_3m              0\ncnt_cred_e_oper_3m          79567\ncnt_days_cred_e_oper_3m     79567\nsum_deb_f_oper_3m               0\ncnt_deb_f_oper_3m           79567\ncnt_days_deb_f_oper_3m      79567\nsum_cred_f_oper_3m              0\ncnt_cred_f_oper_3m          79567\ncnt_days_cred_f_oper_3m     79567\nsum_deb_g_oper_3m               0\ncnt_deb_g_oper_3m           79567\ncnt_days_deb_g_oper_3m      79567\nsum_cred_g_oper_3m              0\ncnt_cred_g_oper_3m          79567\ncnt_days_cred_g_oper_3m     79567\nsum_deb_h_oper_3m               0\ncnt_deb_h_oper_3m           79567\ncnt_days_deb_h_oper_3m      79567\nsum_cred_h_oper_3m              0\ncnt_cred_h_oper_3m          79567\ncnt_days_cred_h_oper_3m     79567\nstart_cluster                   0\ndtype: int64"
          },
          "metadata": {}
        }
      ],
      "id": "-h6Lq3vxIW7q"
    },
    {
      "cell_type": "markdown",
      "source": [
        "Количество дубликатов"
      ],
      "metadata": {
        "id": "J6RVVuOP-k6a"
      },
      "id": "J6RVVuOP-k6a"
    },
    {
      "cell_type": "code",
      "source": [
        "train_df.dropna().shape"
      ],
      "metadata": {
        "colab": {
          "base_uri": "https://localhost:8080/"
        },
        "id": "Xi-r3E-i-mHD",
        "outputId": "5cc86b44-6133-4031-9948-f0c64e1052dc",
        "execution": {
          "iopub.status.busy": "2024-04-10T00:13:07.108181Z",
          "iopub.execute_input": "2024-04-10T00:13:07.109116Z",
          "iopub.status.idle": "2024-04-10T00:13:07.844667Z",
          "shell.execute_reply.started": "2024-04-10T00:13:07.109080Z",
          "shell.execute_reply": "2024-04-10T00:13:07.843726Z"
        },
        "trusted": true
      },
      "execution_count": null,
      "outputs": [
        {
          "execution_count": 116,
          "output_type": "execute_result",
          "data": {
            "text/plain": "(173529, 93)"
          },
          "metadata": {}
        }
      ],
      "id": "Xi-r3E-i-mHD"
    },
    {
      "cell_type": "code",
      "source": [
        "test_df.dropna().shape"
      ],
      "metadata": {
        "colab": {
          "base_uri": "https://localhost:8080/"
        },
        "id": "qAwXTQMZIbsI",
        "outputId": "77eaa702-80da-4c35-8f83-990effc30837",
        "execution": {
          "iopub.status.busy": "2024-04-10T00:13:07.846145Z",
          "iopub.execute_input": "2024-04-10T00:13:07.846443Z",
          "iopub.status.idle": "2024-04-10T00:13:08.168403Z",
          "shell.execute_reply.started": "2024-04-10T00:13:07.846418Z",
          "shell.execute_reply": "2024-04-10T00:13:08.167431Z"
        },
        "trusted": true
      },
      "execution_count": null,
      "outputs": [
        {
          "execution_count": 117,
          "output_type": "execute_result",
          "data": {
            "text/plain": "(82665, 92)"
          },
          "metadata": {}
        }
      ],
      "id": "qAwXTQMZIbsI"
    },
    {
      "cell_type": "markdown",
      "source": [
        "Информация"
      ],
      "metadata": {
        "id": "QpVXQHUVJVfb"
      },
      "id": "QpVXQHUVJVfb"
    },
    {
      "cell_type": "code",
      "source": [
        "train_df.info()"
      ],
      "metadata": {
        "colab": {
          "base_uri": "https://localhost:8080/"
        },
        "id": "e8WZaX_C4mPg",
        "outputId": "9aa09220-2d47-4f69-8056-5722e5aeb36a",
        "execution": {
          "iopub.status.busy": "2024-04-10T00:13:12.815243Z",
          "iopub.execute_input": "2024-04-10T00:13:12.816088Z",
          "iopub.status.idle": "2024-04-10T00:13:13.488418Z",
          "shell.execute_reply.started": "2024-04-10T00:13:12.816057Z",
          "shell.execute_reply": "2024-04-10T00:13:13.487491Z"
        },
        "trusted": true
      },
      "execution_count": null,
      "outputs": [
        {
          "name": "stdout",
          "text": "<class 'pandas.core.frame.DataFrame'>\nRangeIndex: 600000 entries, 0 to 599999\nData columns (total 93 columns):\n #   Column                   Non-Null Count   Dtype  \n---  ------                   --------------   -----  \n 0   id                       600000 non-null  int64  \n 1   date                     600000 non-null  object \n 2   balance_amt_avg          534423 non-null  float64\n 3   balance_amt_max          534423 non-null  float64\n 4   balance_amt_min          534423 non-null  float64\n 5   balance_amt_day_avg      534423 non-null  float64\n 6   channel_code             600000 non-null  object \n 7   city                     600000 non-null  object \n 8   city_type                600000 non-null  object \n 9   index_city_code          600000 non-null  object \n 10  ogrn_days_end_month      568527 non-null  float64\n 11  ogrn_days_end_quarter    568527 non-null  float64\n 12  ogrn_month               600000 non-null  object \n 13  ogrn_year                600000 non-null  object \n 14  ft_registration_date     568640 non-null  float64\n 15  max_founderpres          264408 non-null  float64\n 16  min_founderpres          264408 non-null  float64\n 17  ogrn_exist_months        568527 non-null  float64\n 18  okved                    600000 non-null  object \n 19  segment                  600000 non-null  object \n 20  sum_of_paym_2m           451116 non-null  float64\n 21  sum_of_paym_6m           451116 non-null  float64\n 22  sum_of_paym_1y           451116 non-null  float64\n 23  sum_a_oper_1m            600000 non-null  float64\n 24  cnt_a_oper_1m            403819 non-null  float64\n 25  sum_b_oper_1m            600000 non-null  float64\n 26  cnt_b_oper_1m            403819 non-null  float64\n 27  sum_c_oper_1m            600000 non-null  float64\n 28  cnt_c_oper_1m            403819 non-null  float64\n 29  sum_deb_d_oper_1m        600000 non-null  float64\n 30  cnt_deb_d_oper_1m        403819 non-null  float64\n 31  sum_cred_d_oper_1m       600000 non-null  float64\n 32  cnt_cred_d_oper_1m       403819 non-null  float64\n 33  sum_deb_e_oper_1m        600000 non-null  float64\n 34  cnt_deb_e_oper_1m        403819 non-null  float64\n 35  cnt_days_deb_e_oper_1m   403819 non-null  float64\n 36  sum_cred_e_oper_1m       600000 non-null  float64\n 37  cnt_cred_e_oper_1m       403819 non-null  float64\n 38  cnt_days_cred_e_oper_1m  403819 non-null  float64\n 39  sum_deb_f_oper_1m        600000 non-null  float64\n 40  cnt_deb_f_oper_1m        403819 non-null  float64\n 41  cnt_days_deb_f_oper_1m   403819 non-null  float64\n 42  sum_cred_f_oper_1m       600000 non-null  float64\n 43  cnt_cred_f_oper_1m       403819 non-null  float64\n 44  cnt_days_cred_f_oper_1m  403819 non-null  float64\n 45  sum_deb_g_oper_1m        600000 non-null  float64\n 46  cnt_deb_g_oper_1m        403819 non-null  float64\n 47  cnt_days_deb_g_oper_1m   403819 non-null  float64\n 48  sum_cred_g_oper_1m       600000 non-null  float64\n 49  cnt_cred_g_oper_1m       403819 non-null  float64\n 50  cnt_days_cred_g_oper_1m  403819 non-null  float64\n 51  sum_deb_h_oper_1m        600000 non-null  float64\n 52  cnt_deb_h_oper_1m        403819 non-null  float64\n 53  cnt_days_deb_h_oper_1m   403819 non-null  float64\n 54  sum_cred_h_oper_1m       600000 non-null  float64\n 55  cnt_cred_h_oper_1m       403819 non-null  float64\n 56  cnt_days_cred_h_oper_1m  403819 non-null  float64\n 57  sum_a_oper_3m            600000 non-null  float64\n 58  cnt_a_oper_3m            434748 non-null  float64\n 59  sum_b_oper_3m            600000 non-null  float64\n 60  cnt_b_oper_3m            434748 non-null  float64\n 61  sum_c_oper_3m            600000 non-null  float64\n 62  cnt_c_oper_3m            434748 non-null  float64\n 63  sum_deb_d_oper_3m        600000 non-null  float64\n 64  cnt_deb_d_oper_3m        434748 non-null  float64\n 65  sum_cred_d_oper_3m       600000 non-null  float64\n 66  cnt_cred_d_oper_3m       434748 non-null  float64\n 67  sum_deb_e_oper_3m        600000 non-null  float64\n 68  cnt_deb_e_oper_3m        434748 non-null  float64\n 69  cnt_days_deb_e_oper_3m   434748 non-null  float64\n 70  sum_cred_e_oper_3m       600000 non-null  float64\n 71  cnt_cred_e_oper_3m       434748 non-null  float64\n 72  cnt_days_cred_e_oper_3m  434748 non-null  float64\n 73  sum_deb_f_oper_3m        600000 non-null  float64\n 74  cnt_deb_f_oper_3m        434748 non-null  float64\n 75  cnt_days_deb_f_oper_3m   434748 non-null  float64\n 76  sum_cred_f_oper_3m       600000 non-null  float64\n 77  cnt_cred_f_oper_3m       434748 non-null  float64\n 78  cnt_days_cred_f_oper_3m  434748 non-null  float64\n 79  sum_deb_g_oper_3m        600000 non-null  float64\n 80  cnt_deb_g_oper_3m        434748 non-null  float64\n 81  cnt_days_deb_g_oper_3m   434748 non-null  float64\n 82  sum_cred_g_oper_3m       600000 non-null  float64\n 83  cnt_cred_g_oper_3m       434748 non-null  float64\n 84  cnt_days_cred_g_oper_3m  434748 non-null  float64\n 85  sum_deb_h_oper_3m        600000 non-null  float64\n 86  cnt_deb_h_oper_3m        434748 non-null  float64\n 87  cnt_days_deb_h_oper_3m   434748 non-null  float64\n 88  sum_cred_h_oper_3m       600000 non-null  float64\n 89  cnt_cred_h_oper_3m       434748 non-null  float64\n 90  cnt_days_cred_h_oper_3m  434748 non-null  float64\n 91  start_cluster            600000 non-null  object \n 92  end_cluster              600000 non-null  object \ndtypes: float64(81), int64(1), object(11)\nmemory usage: 425.7+ MB\n",
          "output_type": "stream"
        }
      ],
      "id": "e8WZaX_C4mPg"
    },
    {
      "cell_type": "code",
      "source": [
        "test_df.info()"
      ],
      "metadata": {
        "execution": {
          "iopub.status.busy": "2024-04-10T00:13:13.490222Z",
          "iopub.execute_input": "2024-04-10T00:13:13.490700Z",
          "iopub.status.idle": "2024-04-10T00:13:13.796082Z",
          "shell.execute_reply.started": "2024-04-10T00:13:13.490663Z",
          "shell.execute_reply": "2024-04-10T00:13:13.795198Z"
        },
        "trusted": true,
        "id": "G-wjsFcsffK8",
        "outputId": "f46afa3c-e8e7-4326-e942-115ffbcce3a7"
      },
      "execution_count": null,
      "outputs": [
        {
          "name": "stdout",
          "text": "<class 'pandas.core.frame.DataFrame'>\nRangeIndex: 290120 entries, 0 to 290119\nData columns (total 92 columns):\n #   Column                   Non-Null Count   Dtype  \n---  ------                   --------------   -----  \n 0   id                       290120 non-null  int64  \n 1   date                     290120 non-null  object \n 2   balance_amt_avg          260637 non-null  float64\n 3   balance_amt_max          260637 non-null  float64\n 4   balance_amt_min          260637 non-null  float64\n 5   balance_amt_day_avg      260637 non-null  float64\n 6   channel_code             290120 non-null  object \n 7   city                     290120 non-null  object \n 8   city_type                290120 non-null  object \n 9   index_city_code          290120 non-null  object \n 10  ogrn_days_end_month      275842 non-null  float64\n 11  ogrn_days_end_quarter    275842 non-null  float64\n 12  ogrn_month               290120 non-null  object \n 13  ogrn_year                290120 non-null  object \n 14  ft_registration_date     275282 non-null  float64\n 15  max_founderpres          128928 non-null  float64\n 16  min_founderpres          128928 non-null  float64\n 17  ogrn_exist_months        275842 non-null  float64\n 18  okved                    290120 non-null  object \n 19  segment                  290120 non-null  object \n 20  sum_of_paym_2m           216659 non-null  float64\n 21  sum_of_paym_6m           216659 non-null  float64\n 22  sum_of_paym_1y           216659 non-null  float64\n 23  sum_a_oper_1m            290120 non-null  float64\n 24  cnt_a_oper_1m            194910 non-null  float64\n 25  sum_b_oper_1m            290120 non-null  float64\n 26  cnt_b_oper_1m            194910 non-null  float64\n 27  sum_c_oper_1m            290120 non-null  float64\n 28  cnt_c_oper_1m            194910 non-null  float64\n 29  sum_deb_d_oper_1m        290120 non-null  float64\n 30  cnt_deb_d_oper_1m        194910 non-null  float64\n 31  sum_cred_d_oper_1m       290120 non-null  float64\n 32  cnt_cred_d_oper_1m       194910 non-null  float64\n 33  sum_deb_e_oper_1m        290120 non-null  float64\n 34  cnt_deb_e_oper_1m        194910 non-null  float64\n 35  cnt_days_deb_e_oper_1m   194910 non-null  float64\n 36  sum_cred_e_oper_1m       290120 non-null  float64\n 37  cnt_cred_e_oper_1m       194910 non-null  float64\n 38  cnt_days_cred_e_oper_1m  194910 non-null  float64\n 39  sum_deb_f_oper_1m        290120 non-null  float64\n 40  cnt_deb_f_oper_1m        194910 non-null  float64\n 41  cnt_days_deb_f_oper_1m   194910 non-null  float64\n 42  sum_cred_f_oper_1m       290120 non-null  float64\n 43  cnt_cred_f_oper_1m       194910 non-null  float64\n 44  cnt_days_cred_f_oper_1m  194910 non-null  float64\n 45  sum_deb_g_oper_1m        290120 non-null  float64\n 46  cnt_deb_g_oper_1m        194910 non-null  float64\n 47  cnt_days_deb_g_oper_1m   194910 non-null  float64\n 48  sum_cred_g_oper_1m       290120 non-null  float64\n 49  cnt_cred_g_oper_1m       194910 non-null  float64\n 50  cnt_days_cred_g_oper_1m  194910 non-null  float64\n 51  sum_deb_h_oper_1m        290120 non-null  float64\n 52  cnt_deb_h_oper_1m        194910 non-null  float64\n 53  cnt_days_deb_h_oper_1m   194910 non-null  float64\n 54  sum_cred_h_oper_1m       290120 non-null  float64\n 55  cnt_cred_h_oper_1m       194910 non-null  float64\n 56  cnt_days_cred_h_oper_1m  194910 non-null  float64\n 57  sum_a_oper_3m            290120 non-null  float64\n 58  cnt_a_oper_3m            210553 non-null  float64\n 59  sum_b_oper_3m            290120 non-null  float64\n 60  cnt_b_oper_3m            210553 non-null  float64\n 61  sum_c_oper_3m            290120 non-null  float64\n 62  cnt_c_oper_3m            210553 non-null  float64\n 63  sum_deb_d_oper_3m        290120 non-null  float64\n 64  cnt_deb_d_oper_3m        210553 non-null  float64\n 65  sum_cred_d_oper_3m       290120 non-null  float64\n 66  cnt_cred_d_oper_3m       210553 non-null  float64\n 67  sum_deb_e_oper_3m        290120 non-null  float64\n 68  cnt_deb_e_oper_3m        210553 non-null  float64\n 69  cnt_days_deb_e_oper_3m   210553 non-null  float64\n 70  sum_cred_e_oper_3m       290120 non-null  float64\n 71  cnt_cred_e_oper_3m       210553 non-null  float64\n 72  cnt_days_cred_e_oper_3m  210553 non-null  float64\n 73  sum_deb_f_oper_3m        290120 non-null  float64\n 74  cnt_deb_f_oper_3m        210553 non-null  float64\n 75  cnt_days_deb_f_oper_3m   210553 non-null  float64\n 76  sum_cred_f_oper_3m       290120 non-null  float64\n 77  cnt_cred_f_oper_3m       210553 non-null  float64\n 78  cnt_days_cred_f_oper_3m  210553 non-null  float64\n 79  sum_deb_g_oper_3m        290120 non-null  float64\n 80  cnt_deb_g_oper_3m        210553 non-null  float64\n 81  cnt_days_deb_g_oper_3m   210553 non-null  float64\n 82  sum_cred_g_oper_3m       290120 non-null  float64\n 83  cnt_cred_g_oper_3m       210553 non-null  float64\n 84  cnt_days_cred_g_oper_3m  210553 non-null  float64\n 85  sum_deb_h_oper_3m        290120 non-null  float64\n 86  cnt_deb_h_oper_3m        210553 non-null  float64\n 87  cnt_days_deb_h_oper_3m   210553 non-null  float64\n 88  sum_cred_h_oper_3m       290120 non-null  float64\n 89  cnt_cred_h_oper_3m       210553 non-null  float64\n 90  cnt_days_cred_h_oper_3m  210553 non-null  float64\n 91  start_cluster            290120 non-null  object \ndtypes: float64(81), int64(1), object(10)\nmemory usage: 203.6+ MB\n",
          "output_type": "stream"
        }
      ],
      "id": "G-wjsFcsffK8"
    },
    {
      "cell_type": "markdown",
      "source": [
        "Начальные кластеры"
      ],
      "metadata": {
        "id": "tvp0rGLfJbPO"
      },
      "id": "tvp0rGLfJbPO"
    },
    {
      "cell_type": "code",
      "source": [
        "test_df['start_cluster'].value_counts()"
      ],
      "metadata": {
        "colab": {
          "base_uri": "https://localhost:8080/"
        },
        "id": "nM_nKJ9l6uNs",
        "outputId": "ba9f5cb5-f029-44ce-ac57-bdb76b8c7c31",
        "execution": {
          "iopub.status.busy": "2024-04-10T00:13:14.686662Z",
          "iopub.execute_input": "2024-04-10T00:13:14.686996Z",
          "iopub.status.idle": "2024-04-10T00:13:14.728533Z",
          "shell.execute_reply.started": "2024-04-10T00:13:14.686972Z",
          "shell.execute_reply": "2024-04-10T00:13:14.727627Z"
        },
        "trusted": true
      },
      "execution_count": null,
      "outputs": [
        {
          "execution_count": 120,
          "output_type": "execute_result",
          "data": {
            "text/plain": "start_cluster\n{α}          170103\n{}            51842\n{α, η}        19619\n{other}       15694\n{α, γ}        15209\n{α, β}         5346\n{α, δ}         4224\n{α, ε}         2463\n{α, θ}         2049\n{α, ψ}         1307\n{α, μ}          735\n{α, ε, η}       612\n{α, λ}          365\n{α, ε, θ}       345\n{α, ε, ψ}       126\n{λ}              72\n{α, π}            9\nName: count, dtype: int64"
          },
          "metadata": {}
        }
      ],
      "id": "nM_nKJ9l6uNs"
    },
    {
      "cell_type": "code",
      "source": [
        "train_df[['id', 'date', 'start_cluster', 'end_cluster']].isna().sum()"
      ],
      "metadata": {
        "colab": {
          "base_uri": "https://localhost:8080/"
        },
        "id": "CIK57UTbOlr3",
        "outputId": "5bb2172a-8a7a-4514-8a10-c8854f9e76e7",
        "execution": {
          "iopub.status.busy": "2024-04-10T00:13:16.486853Z",
          "iopub.execute_input": "2024-04-10T00:13:16.487741Z",
          "iopub.status.idle": "2024-04-10T00:13:16.673679Z",
          "shell.execute_reply.started": "2024-04-10T00:13:16.487704Z",
          "shell.execute_reply": "2024-04-10T00:13:16.672771Z"
        },
        "trusted": true
      },
      "execution_count": null,
      "outputs": [
        {
          "execution_count": 121,
          "output_type": "execute_result",
          "data": {
            "text/plain": "id               0\ndate             0\nstart_cluster    0\nend_cluster      0\ndtype: int64"
          },
          "metadata": {}
        }
      ],
      "id": "CIK57UTbOlr3"
    },
    {
      "cell_type": "markdown",
      "source": [
        "## Предобработка"
      ],
      "metadata": {
        "id": "V28rbL-VI22W"
      },
      "id": "V28rbL-VI22W"
    },
    {
      "cell_type": "code",
      "source": [
        "list_of_col_train = train_df.columns[train_df.isna().sum() > 0].tolist()\n",
        "list_of_col_test = test_df.columns[test_df.isna().sum() > 0].tolist()\n",
        "list_of_col_train_cat = [\n",
        "    \"channel_code\", \"city\", \"city_type\",\n",
        "    \"okved\", \"segment\",\n",
        "    \"index_city_code\", \"ogrn_month\", \"ogrn_year\",\n",
        "    'start_cluster'\n",
        "]\n",
        "list_of_custom_cols = [\"balance_amt_avg\",\n",
        "\"balance_amt_max\",\n",
        "\"balance_amt_min\",\n",
        "\"balance_amt_day_avg\",\n",
        "\"channel_code\",\n",
        "\"city\",\n",
        "\"city_type\",\n",
        "\"index_city_code\",\n",
        "\"ogrn_days_end_month\",\n",
        "\"ogrn_days_end_quarter\",\n",
        "\"ogrn_month\",\n",
        "\"ogrn_year\",\n",
        "\"ft_registration_date\",\n",
        "\"max_founderpres\",\n",
        "\"min_founderpres\",\n",
        "\"ogrn_exist_months\",\n",
        "\"okved\",\n",
        "\"segment\",\n",
        "\"sum_of_paym_2m\",\n",
        "\"sum_of_paym_6m\",\n",
        "\"sum_of_paym_1y\"]\n",
        "\n",
        "list_of_custom_cols_test = [\"balance_amt_avg\",\n",
        "\"balance_amt_max\",\n",
        "\"balance_amt_min\",\n",
        "\"balance_amt_day_avg\",\n",
        "\"channel_code\",\n",
        "\"city\",\n",
        "\"city_type\",\n",
        "\"index_city_code\",\n",
        "\"ogrn_days_end_month\",\n",
        "\"ogrn_days_end_quarter\",\n",
        "\"ogrn_month\",\n",
        "\"ogrn_year\",\n",
        "\"ft_registration_date\",\n",
        "\"max_founderpres\",\n",
        "\"min_founderpres\",\n",
        "\"ogrn_exist_months\",\n",
        "\"okved\",\n",
        "\"segment\",\n",
        "\"sum_of_paym_2m\",\n",
        "\"sum_of_paym_6m\",\n",
        "\"sum_of_paym_1y\",\n",
        "'start_cluster']"
      ],
      "metadata": {
        "id": "bnVL88OSMk4c",
        "execution": {
          "iopub.status.busy": "2024-04-09T23:52:18.049914Z",
          "iopub.execute_input": "2024-04-09T23:52:18.050787Z",
          "iopub.status.idle": "2024-04-09T23:52:19.007889Z",
          "shell.execute_reply.started": "2024-04-09T23:52:18.050755Z",
          "shell.execute_reply": "2024-04-09T23:52:19.007120Z"
        },
        "trusted": true
      },
      "execution_count": null,
      "outputs": [],
      "id": "bnVL88OSMk4c"
    },
    {
      "cell_type": "code",
      "source": [
        "def restore_data(df, list_of_col):\n",
        "    # Копия датасета чтобы не грязнить основной\n",
        "    restored_df = df.copy()\n",
        "\n",
        "    # Цикл по всем необходимым столбцам\n",
        "    # Некоторые столбцы не имеют пропусков, поэтому их даже не трогаю\n",
        "    # Можно задавать кастомные столбцы, чтоб например обработать только 5 столбцов\n",
        "    for name_of_col in list_of_col:\n",
        "      # Вывод информации чтоб понимать на каком мы этапе\n",
        "      print('Столбец', name_of_col)\n",
        "\n",
        "      # РАБОТАЕТ ПИЗДЕЦ КАК МЕДЛЕННО, У МЕНЯ БАБУШКА ХОДИТ БЫСТРЕЕ В МАГАЗ\n",
        "      # Вариант 1 - числовые значения\n",
        "      if restored_df[name_of_col].dtype in [np.float16, np.int64, np.float64, np.int32, np.int16, np.float32]: # проверка на числовые значения (какой тип данных в столбце)\n",
        "\n",
        "          # temp_df - сабсет с id, date и name_pf_col, с удаленными пропусками\n",
        "          temp_df = restored_df[['id','date', name_of_col]].copy().dropna()\n",
        "\n",
        "          # маска, чтобы оставить в temp_df только те id,\n",
        "          # которые встречаются 2-3 раза\n",
        "          # это нужно чтобы считать изменение значения по name_of_col (10 -> 15 = прирост 1.5)\n",
        "          # с единственным значением не посчитаешь так\n",
        "          mask = temp_df['id'].value_counts().isin([2, 3])\n",
        "          temp_df = temp_df[temp_df['id'].isin(mask.index[mask])]\n",
        "\n",
        "          # Разделение данных по id\n",
        "          # Как раз для подсчета изменения в каждом случае\n",
        "          grouped_data = temp_df.groupby('id')\n",
        "          growth_rates = []\n",
        "\n",
        "          # Вычисление среднего коэффициента изменения для каждого id\n",
        "          for id_val, group in grouped_data:\n",
        "              if len(group) == 3:  # Убедиться, что у нас есть данные для расчета прироста\n",
        "                  # Вычислить изменения между соседними месяцами\n",
        "                  growth_rate = ((group[name_of_col].iloc[2] / group[name_of_col].iloc[1]) +\n",
        "                                (group[name_of_col].iloc[1] / group[name_of_col].iloc[0])) / 2\n",
        "                  growth_rates.append(growth_rate)\n",
        "\n",
        "                  # Это когда всего 2 значения\n",
        "              elif len(group) == 2:\n",
        "                  growth_rate = group[name_of_col].iloc[1] / group[name_of_col].iloc[0]\n",
        "                  growth_rates.append(growth_rate)\n",
        "\n",
        "          # Найти среднее значение средних коэффициентов изменения\n",
        "          # growth_rates = np.abs(growth_rates) # это не надо, не логично, потому что не учитывает убыль, а только прибыль, короче хуйня не используем\n",
        "\n",
        "          # среднее изменение столбца (в формате 0.05, что означает в среднем по столбцу разница от месяца к месяцу прирост 5%)\n",
        "          aver_diff = np.mean(growth_rates)-1\n",
        "\n",
        "\n",
        "          # Цикл по каждому клиенту (id)\n",
        "          for id_val in restored_df['id'].unique():\n",
        "\n",
        "            # Информация для вывода (понимать на каком мы этапе)\n",
        "            if id_val % 10000 == 0:\n",
        "              print('Index', id_val)\n",
        "\n",
        "            # available_months - сабсет из 1-3 значений (зависит от пропусков)\n",
        "            # в нем 1-3 значения конкретного id, также date и значение name_of_col\n",
        "            # также пропуски убираются\n",
        "            available_months = restored_df[restored_df['id'] == id_val].copy()[['date', name_of_col]].dropna(axis=0)\n",
        "\n",
        "            # Проверка, сколько доступно значений name_of_col (короче сколько не пропущено)\n",
        "            # если всего 1 значение, значит 2 пропуска нужно восстановить\n",
        "            if len(available_months[name_of_col].values) == 1:\n",
        "\n",
        "                # Если у нас доступно только одно значение и оно в month_1\n",
        "                # Тогда мы берем это значение (first_value)\n",
        "                # и домножаем по среднему изменению и получаем month_2 и month_3\n",
        "                if ['month_1'] in available_months['date'].values:\n",
        "                    first_value = available_months.loc[available_months['date'] == 'month_1', name_of_col].values[0]\n",
        "                    restored_df.loc[(restored_df['id'] == id_val) & (restored_df['date'] == 'month_2'), name_of_col] = first_value * (1+aver_diff)\n",
        "                    restored_df.loc[(restored_df['id'] == id_val) & (restored_df['date'] == 'month_3'), name_of_col] = first_value * (1+aver_diff) * (1+aver_diff)\n",
        "\n",
        "                # Если у нас доступно только одно значение и оно в month_2\n",
        "                # Тогда мы берем это значение (first_value)\n",
        "                # и домножаем по среднему изменению и получаем month_1 и month_3\n",
        "                elif ['month_2'] in available_months['date'].values:\n",
        "                    first_value = available_months.loc[available_months['date'] == 'month_2',name_of_col].values[0]\n",
        "                    restored_df.loc[(restored_df['id'] == id_val) & (restored_df['date'] == 'month_1'), name_of_col] = first_value / (1 + aver_diff)\n",
        "                    restored_df.loc[(restored_df['id'] == id_val) & (restored_df['date'] == 'month_3'), name_of_col] = first_value * (1 + aver_diff)\n",
        "\n",
        "                # Если у нас доступно только одно значение и оно в month_3\n",
        "                # Тогда мы берем это значение (first_value)\n",
        "                # и домножаем по среднему изменению и получаем month_1 и month_2\n",
        "                elif ['month_3'] in available_months['date'].values:\n",
        "                    first_value = available_months.loc[available_months['date'] == 'month_3', name_of_col].values[0]\n",
        "                    restored_df.loc[(restored_df['id'] == id_val) & (restored_df['date'] == 'month_1'), name_of_col] = first_value / (1 + aver_diff) / (1 + aver_diff)\n",
        "                    restored_df.loc[(restored_df['id'] == id_val) & (restored_df['date'] == 'month_2'), name_of_col] = first_value / (1 + aver_diff)\n",
        "\n",
        "            # Если доступно изначально 2 значения (1 пропуск заполнить)\n",
        "            elif len(available_months[name_of_col].values) == 2:\n",
        "\n",
        "                # Если есть month_1 и month_2, надо найти month_3\n",
        "                if ('month_1' in available_months['date'].values) and ('month_2' in available_months['date'].values):\n",
        "                  first_value = available_months.loc[available_months['date'] == 'month_1', name_of_col].values[0]\n",
        "                  second_value = available_months.loc[available_months['date'] == 'month_2', name_of_col].values[0]\n",
        "                  restored_df.loc[(restored_df['id'] == id_val) & (restored_df['date'] == 'month_3'), name_of_col] = second_value * (second_value/first_value)\n",
        "\n",
        "                # Если есть month_1 и month_3, надо найти month_2\n",
        "                elif ('month_1' in available_months['date'].values) and ('month_3' in available_months['date'].values):\n",
        "                  first_value = available_months.loc[available_months['date'] == 'month_1', name_of_col].values[0]\n",
        "                  second_value = available_months.loc[available_months['date'] == 'month_3', name_of_col].values[0]\n",
        "                  restored_df.loc[(restored_df['id'] == id_val) & (restored_df['date'] == 'month_2'), name_of_col] = (first_value + second_value)/2\n",
        "\n",
        "                # Если есть month_2 и month_3, надо найти month_1\n",
        "                elif ('month_2' in available_months['date'].values) and ('month_3' in available_months['date'].values):\n",
        "                  first_value = available_months.loc[available_months['date'] == 'month_2', name_of_col].values[0]\n",
        "                  second_value = available_months.loc[available_months['date'] == 'month_3', name_of_col].values[0]\n",
        "                  restored_df.loc[(restored_df['id'] == id_val) & (restored_df['date'] == 'month_1'), name_of_col] = first_value * (first_value/second_value)\n",
        "\n",
        "            # Если вообще нету значений ни по какому из месяцев\n",
        "            elif len(available_months[name_of_col].values) == 0:\n",
        "                  mean_of_col = temp_df[name_of_col].mean() # берем среднее по стобцу значение\n",
        "                  var_of_col = temp_df[name_of_col].var() # находим дисперсию\n",
        "                  first_value = mean_of_col + np.random.uniform(-var_of_col, var_of_col) # получаем среднее значение с рандомным значением в дисперсии\n",
        "                  # насчет np.random.uniform(-var_of_col, var_of_col) не уверен, берет он одно значение или как...\n",
        "                  restored_df.loc[(restored_df['id'] == id_val) & (restored_df['date'] == 'month_1'), name_of_col] = first_value\n",
        "                  restored_df.loc[(restored_df['id'] == id_val) & (restored_df['date'] == 'month_2'), name_of_col] = first_value * (1 + aver_diff)\n",
        "                  restored_df.loc[(restored_df['id'] == id_val) & (restored_df['date'] == 'month_3'), name_of_col] = first_value * (1 + aver_diff) * (1+aver_diff)\n",
        "\n",
        "\n",
        "      else:\n",
        "        # РАБОТАЕТ, ТУТ ВСЕ ОКЕЙ, НО ЕСЛИ ЕСТЬ ИДЕИ - ДОБАВЛЯЙТЕ\n",
        "        # Вариант 2 - категориальные значения\n",
        "          value_counts = restored_df[name_of_col].value_counts(normalize=True) # получаем список возможных значений конкретного столбца и их вероятность появления от 0 до 1\n",
        "          for id_val in restored_df['id'].unique(): # цикл по всем id (клиентам), которые есть\n",
        "\n",
        "              # информация для вывода, чтобы понять, на каком мы этапе обработки\n",
        "              if id_val % 10000 == 0:\n",
        "                  print('Index', id_val)\n",
        "\n",
        "              # id_data - сабсет с айди клиента, месяцами и нужным столбцом, который мы обрабатываем\n",
        "              # также пропуски убираю, дальше увидите почему\n",
        "              id_data = restored_df[restored_df['id'] == id_val][['id', 'date', name_of_col]].dropna()\n",
        "              len_id_data = len(id_data)\n",
        "\n",
        "              # если пропусков нету, значит все значения конкретного столбца name_of_col заполнены\n",
        "              # а значит пропускаем\n",
        "              if len_id_data == 3:\n",
        "                  continue\n",
        "\n",
        "              # если есть 1 или 2 пропуска, то беру доступное значение с другого месяца и заполняю им пропуски\n",
        "              elif len_id_data > 0:\n",
        "                value1 = id_data[name_of_col].values[0]\n",
        "                restored_df.loc[(restored_df['id'] == id_val), name_of_col] = value1\n",
        "\n",
        "              # если вообще нет информации о типе, тогда берем value_counts, описанный выше, и рандомно выбираем\n",
        "              # значение по распределению столбца\n",
        "              elif len_id_data == 0:\n",
        "                value2 = np.random.choice(value_counts.index, p=value_counts.values)\n",
        "                restored_df.loc[(restored_df['id'] == id_val), name_of_col] = value2\n",
        "\n",
        "\n",
        "\n",
        "    return restored_df\n",
        "\n",
        "# Usage\n",
        "# restored_df_train = restore_data(train_df, list_of_custom_cols)\n",
        "# restored_df_train.to_parquet('restored_train_clear.pqt')\n",
        "\n",
        "test_df = restore_data(test_df, ['start_cluster'])\n",
        "# restored_df_train.to_parquet('restored_test.pqt')"
      ],
      "metadata": {
        "colab": {
          "base_uri": "https://localhost:8080/"
        },
        "id": "v6mXgaxNeOu0",
        "outputId": "a0d4b51d-675c-419e-a143-66a2a257ae07",
        "execution": {
          "iopub.status.busy": "2024-04-09T22:49:48.801987Z",
          "iopub.execute_input": "2024-04-09T22:49:48.802377Z",
          "iopub.status.idle": "2024-04-09T22:54:53.142199Z",
          "shell.execute_reply.started": "2024-04-09T22:49:48.802347Z",
          "shell.execute_reply": "2024-04-09T22:54:53.141338Z"
        },
        "trusted": true
      },
      "execution_count": null,
      "outputs": [
        {
          "name": "stdout",
          "text": "Столбец start_cluster\nIndex 200000\nIndex 210000\nIndex 220000\nIndex 230000\nIndex 240000\nIndex 250000\nIndex 260000\nIndex 270000\nIndex 280000\nIndex 290000\n",
          "output_type": "stream"
        }
      ],
      "id": "v6mXgaxNeOu0"
    },
    {
      "cell_type": "code",
      "source": [
        "train_df.drop(['cnt_a_oper_3m', 'cnt_deb_f_oper_3m', 'cnt_days_deb_f_oper_3m', 'cnt_deb_h_oper_3m', 'cnt_days_cred_h_oper_3m', 'sum_cred_e_oper_3m', 'cnt_cred_d_oper_3m', 'sum_deb_f_oper_3m', 'max_founderpres', 'sum_c_oper_3m', 'sum_cred_e_oper_1m', 'sum_deb_g_oper_3m', 'cnt_cred_h_oper_3m', 'balance_amt_day_avg', 'cnt_days_cred_f_oper_3m', 'cnt_days_cred_e_oper_3m', 'sum_deb_d_oper_3m', 'sum_of_paym_6m', 'balance_amt_max', 'cnt_cred_g_oper_3m', 'sum_deb_e_oper_1m', 'cnt_c_oper_3m', 'sum_cred_f_oper_3m', 'ogrn_exist_months', 'cnt_days_deb_h_oper_3m', 'cnt_days_deb_e_oper_3m', 'sum_a_oper_3m', 'cnt_days_deb_g_oper_3m', 'cnt_deb_e_oper_3m', 'cnt_cred_e_oper_3m', 'cnt_deb_f_oper_1m', 'sum_cred_h_oper_3m', 'sum_cred_g_oper_3m', 'sum_cred_d_oper_3m', 'cnt_cred_e_oper_1m', 'sum_b_oper_3m', 'sum_deb_h_oper_1m', 'cnt_cred_f_oper_3m', 'cnt_days_cred_g_oper_3m', 'sum_cred_g_oper_1m', 'cnt_deb_g_oper_3m', 'cnt_deb_d_oper_3m'], axis=1, inplace=True)\n",
        "train_df.dropna(inplace=True, axis=0)"
      ],
      "metadata": {
        "id": "QMa7_TX3LNM8",
        "execution": {
          "iopub.status.busy": "2024-04-09T20:27:11.048825Z",
          "iopub.execute_input": "2024-04-09T20:27:11.049507Z",
          "iopub.status.idle": "2024-04-09T20:27:11.883172Z",
          "shell.execute_reply.started": "2024-04-09T20:27:11.049476Z",
          "shell.execute_reply": "2024-04-09T20:27:11.882156Z"
        },
        "trusted": true
      },
      "execution_count": null,
      "outputs": [],
      "id": "QMa7_TX3LNM8"
    },
    {
      "cell_type": "code",
      "source": [
        "cat_names = [\n",
        "    \"channel_code\", \"city\", \"city_type\",\n",
        "    \"index_city_code\", \"ogrn_month\", \"ogrn_year\",\n",
        "    \"okved\", \"segment\", \"start_cluster\"\n",
        "]"
      ],
      "metadata": {
        "id": "05a1edfe-fcca-4945-a00d-c0b1627d1718",
        "tags": [],
        "execution": {
          "iopub.status.busy": "2024-04-10T00:13:27.733091Z",
          "iopub.execute_input": "2024-04-10T00:13:27.733779Z",
          "iopub.status.idle": "2024-04-10T00:13:27.738209Z",
          "shell.execute_reply.started": "2024-04-10T00:13:27.733749Z",
          "shell.execute_reply": "2024-04-10T00:13:27.737124Z"
        },
        "trusted": true
      },
      "execution_count": null,
      "outputs": [],
      "id": "05a1edfe-fcca-4945-a00d-c0b1627d1718"
    },
    {
      "cell_type": "code",
      "source": [
        "cat_features = [6, 7, 8, 9, 12, 13, 18, 19, 91]"
      ],
      "metadata": {
        "execution": {
          "iopub.status.busy": "2024-04-09T21:07:55.630684Z",
          "iopub.execute_input": "2024-04-09T21:07:55.630951Z",
          "iopub.status.idle": "2024-04-09T21:07:55.635447Z",
          "shell.execute_reply.started": "2024-04-09T21:07:55.630920Z",
          "shell.execute_reply": "2024-04-09T21:07:55.634594Z"
        },
        "trusted": true,
        "id": "S8WQP0QjffK8"
      },
      "execution_count": null,
      "outputs": [],
      "id": "S8WQP0QjffK8"
    },
    {
      "cell_type": "code",
      "source": [
        "from catboost.utils import create_cd\n",
        "\n",
        "feature_names = dict()\n",
        "\n",
        "for i in range(len(cat_features)):\n",
        "    feature_names[cat_features[i]] = cat_names[i]\n",
        "\n",
        "\n",
        "create_cd(\n",
        "    label=0,\n",
        "    cat_features=cat_features,\n",
        "    feature_names=feature_names,\n",
        "    output_path=os.path.join('', 'train.cd')\n",
        ")"
      ],
      "metadata": {
        "execution": {
          "iopub.status.busy": "2024-04-09T21:12:07.486270Z",
          "iopub.execute_input": "2024-04-09T21:12:07.486633Z",
          "iopub.status.idle": "2024-04-09T21:12:07.492974Z",
          "shell.execute_reply.started": "2024-04-09T21:12:07.486606Z",
          "shell.execute_reply": "2024-04-09T21:12:07.491926Z"
        },
        "trusted": true,
        "id": "T5Y5_f8WffK8"
      },
      "execution_count": null,
      "outputs": [],
      "id": "T5Y5_f8WffK8"
    },
    {
      "cell_type": "code",
      "source": [
        "!cat /kaggle/working/train.cd"
      ],
      "metadata": {
        "execution": {
          "iopub.status.busy": "2024-04-09T21:11:05.627324Z",
          "iopub.execute_input": "2024-04-09T21:11:05.628063Z",
          "iopub.status.idle": "2024-04-09T21:11:06.699142Z",
          "shell.execute_reply.started": "2024-04-09T21:11:05.628034Z",
          "shell.execute_reply": "2024-04-09T21:11:06.697862Z"
        },
        "trusted": true,
        "id": "Ul-PeJglffK9",
        "outputId": "bea5bf7b-35b1-4d5c-f12e-b037cd5f5f03"
      },
      "execution_count": null,
      "outputs": [
        {
          "name": "stdout",
          "text": "0\tLabel\t\n6\tCateg\tchannel_code\n7\tCateg\tcity\n8\tCateg\tcity_type\n9\tCateg\tindex_city_code\n12\tCateg\togrn_month\n13\tCateg\togrn_year\n18\tCateg\tokved\n19\tCateg\tsegment\n91\tCateg\tstart_cluster\n",
          "output_type": "stream"
        }
      ],
      "id": "Ul-PeJglffK9"
    },
    {
      "cell_type": "markdown",
      "source": [
        "Обозначение категориальных признаков"
      ],
      "metadata": {
        "id": "DCN4DEaNqjr2"
      },
      "id": "DCN4DEaNqjr2"
    },
    {
      "cell_type": "code",
      "source": [
        "train_df[cat_cols] = train_df[cat_cols].astype(\"category\")\n",
        "test_df[cat_cols] = test_df[cat_cols].astype(\"category\")"
      ],
      "metadata": {
        "id": "198295f2-78b7-41a0-b0fe-490de972beaf",
        "tags": [],
        "execution": {
          "iopub.status.busy": "2024-04-09T21:00:34.362963Z",
          "iopub.execute_input": "2024-04-09T21:00:34.363784Z",
          "iopub.status.idle": "2024-04-09T21:00:34.523242Z",
          "shell.execute_reply.started": "2024-04-09T21:00:34.363751Z",
          "shell.execute_reply": "2024-04-09T21:00:34.522464Z"
        },
        "trusted": true
      },
      "execution_count": null,
      "outputs": [],
      "id": "198295f2-78b7-41a0-b0fe-490de972beaf"
    },
    {
      "cell_type": "code",
      "source": [
        "label_encoders = {}\n",
        "\n",
        "for col in cat_names:\n",
        "    label_encoders[col] = LabelEncoder().fit(train_df[col])\n",
        "    train_df[col] = label_encoders[col].transform(train_df[col])\n",
        "    test_df[col] = label_encoders[col].transform(test_df[col])"
      ],
      "metadata": {
        "id": "uK2qUbC01CYm",
        "execution": {
          "iopub.status.busy": "2024-04-10T00:13:34.318527Z",
          "iopub.execute_input": "2024-04-10T00:13:34.318893Z",
          "iopub.status.idle": "2024-04-10T00:13:36.040147Z",
          "shell.execute_reply.started": "2024-04-10T00:13:34.318864Z",
          "shell.execute_reply": "2024-04-10T00:13:36.039348Z"
        },
        "trusted": true
      },
      "execution_count": null,
      "outputs": [],
      "id": "uK2qUbC01CYm"
    },
    {
      "cell_type": "markdown",
      "source": [
        "Создаем выборки для валидации и обучения"
      ],
      "metadata": {
        "id": "50RNyCgPtl6n"
      },
      "id": "50RNyCgPtl6n"
    },
    {
      "cell_type": "code",
      "source": [
        "X = train_df.drop([\"id\", \"date\", \"end_cluster\"], axis=1)\n",
        "y = train_df[\"end_cluster\"]\n",
        "\n",
        "x_train, x_val, y_train, y_val = train_test_split(X, y,\n",
        "                                                  test_size=0.2,\n",
        "                                                  random_state=42)"
      ],
      "metadata": {
        "id": "2c0edf39-d716-48ca-a66c-936871ee5918",
        "tags": [],
        "execution": {
          "iopub.status.busy": "2024-04-10T00:13:37.982815Z",
          "iopub.execute_input": "2024-04-10T00:13:37.983178Z",
          "iopub.status.idle": "2024-04-10T00:13:38.600939Z",
          "shell.execute_reply.started": "2024-04-10T00:13:37.983149Z",
          "shell.execute_reply": "2024-04-10T00:13:38.600144Z"
        },
        "trusted": true
      },
      "execution_count": null,
      "outputs": [],
      "id": "2c0edf39-d716-48ca-a66c-936871ee5918"
    },
    {
      "cell_type": "code",
      "source": [
        "cat_features_x = [4, 5, 6, 7, 10, 11, 16, 17, 89]"
      ],
      "metadata": {
        "execution": {
          "iopub.status.busy": "2024-04-09T21:15:55.051738Z",
          "iopub.execute_input": "2024-04-09T21:15:55.052089Z",
          "iopub.status.idle": "2024-04-09T21:15:55.056602Z",
          "shell.execute_reply.started": "2024-04-09T21:15:55.052062Z",
          "shell.execute_reply": "2024-04-09T21:15:55.055610Z"
        },
        "trusted": true,
        "id": "PJvXVCR5ffK9"
      },
      "execution_count": null,
      "outputs": [],
      "id": "PJvXVCR5ffK9"
    },
    {
      "cell_type": "code",
      "source": [
        "pool1 = Pool(data=X, label=y, cat_features=cat_features_x)\n",
        "\n",
        "\n",
        "\n",
        "print(\"Dataset shape\")\n",
        "print(f\"Dataset 1: {str(pool1.shape)}\")\n",
        "\n",
        "print()\n",
        "print(\"Column names\")\n",
        "print(f\"Dataset 1: {pool1.get_feature_names()}\")\n"
      ],
      "metadata": {
        "execution": {
          "iopub.status.busy": "2024-04-09T21:16:07.586583Z",
          "iopub.execute_input": "2024-04-09T21:16:07.587295Z",
          "iopub.status.idle": "2024-04-09T21:16:08.613922Z",
          "shell.execute_reply.started": "2024-04-09T21:16:07.587264Z",
          "shell.execute_reply": "2024-04-09T21:16:08.613014Z"
        },
        "trusted": true,
        "id": "QS21LCWCffK9",
        "outputId": "5465da40-5c61-4379-ede4-e5108669cf16"
      },
      "execution_count": null,
      "outputs": [
        {
          "name": "stdout",
          "text": "Dataset shape\nDataset 1: (600000, 90)\n\nColumn names\nDataset 1: ['balance_amt_avg', 'balance_amt_max', 'balance_amt_min', 'balance_amt_day_avg', 'channel_code', 'city', 'city_type', 'index_city_code', 'ogrn_days_end_month', 'ogrn_days_end_quarter', 'ogrn_month', 'ogrn_year', 'ft_registration_date', 'max_founderpres', 'min_founderpres', 'ogrn_exist_months', 'okved', 'segment', 'sum_of_paym_2m', 'sum_of_paym_6m', 'sum_of_paym_1y', 'sum_a_oper_1m', 'cnt_a_oper_1m', 'sum_b_oper_1m', 'cnt_b_oper_1m', 'sum_c_oper_1m', 'cnt_c_oper_1m', 'sum_deb_d_oper_1m', 'cnt_deb_d_oper_1m', 'sum_cred_d_oper_1m', 'cnt_cred_d_oper_1m', 'sum_deb_e_oper_1m', 'cnt_deb_e_oper_1m', 'cnt_days_deb_e_oper_1m', 'sum_cred_e_oper_1m', 'cnt_cred_e_oper_1m', 'cnt_days_cred_e_oper_1m', 'sum_deb_f_oper_1m', 'cnt_deb_f_oper_1m', 'cnt_days_deb_f_oper_1m', 'sum_cred_f_oper_1m', 'cnt_cred_f_oper_1m', 'cnt_days_cred_f_oper_1m', 'sum_deb_g_oper_1m', 'cnt_deb_g_oper_1m', 'cnt_days_deb_g_oper_1m', 'sum_cred_g_oper_1m', 'cnt_cred_g_oper_1m', 'cnt_days_cred_g_oper_1m', 'sum_deb_h_oper_1m', 'cnt_deb_h_oper_1m', 'cnt_days_deb_h_oper_1m', 'sum_cred_h_oper_1m', 'cnt_cred_h_oper_1m', 'cnt_days_cred_h_oper_1m', 'sum_a_oper_3m', 'cnt_a_oper_3m', 'sum_b_oper_3m', 'cnt_b_oper_3m', 'sum_c_oper_3m', 'cnt_c_oper_3m', 'sum_deb_d_oper_3m', 'cnt_deb_d_oper_3m', 'sum_cred_d_oper_3m', 'cnt_cred_d_oper_3m', 'sum_deb_e_oper_3m', 'cnt_deb_e_oper_3m', 'cnt_days_deb_e_oper_3m', 'sum_cred_e_oper_3m', 'cnt_cred_e_oper_3m', 'cnt_days_cred_e_oper_3m', 'sum_deb_f_oper_3m', 'cnt_deb_f_oper_3m', 'cnt_days_deb_f_oper_3m', 'sum_cred_f_oper_3m', 'cnt_cred_f_oper_3m', 'cnt_days_cred_f_oper_3m', 'sum_deb_g_oper_3m', 'cnt_deb_g_oper_3m', 'cnt_days_deb_g_oper_3m', 'sum_cred_g_oper_3m', 'cnt_cred_g_oper_3m', 'cnt_days_cred_g_oper_3m', 'sum_deb_h_oper_3m', 'cnt_deb_h_oper_3m', 'cnt_days_deb_h_oper_3m', 'sum_cred_h_oper_3m', 'cnt_cred_h_oper_3m', 'cnt_days_cred_h_oper_3m', 'start_cluster']\n",
          "output_type": "stream"
        }
      ],
      "id": "QS21LCWCffK9"
    },
    {
      "cell_type": "code",
      "source": [
        "from catboost import cv\n",
        "\n",
        "params = {\n",
        "    'loss_function': 'MultiClass',\n",
        "    'iterations': 512,\n",
        "    'random_seed': 43,\n",
        "    'learning_rate': 0.1,\n",
        "    'depth': 12,\n",
        "    'task_type': 'GPU',\n",
        "    'devices':'0'\n",
        "}\n",
        "\n",
        "cv_data = cv(\n",
        "    params=params,\n",
        "    pool=pool1,\n",
        "    fold_count=5, # Разбивка выборки на 5 кусочков\n",
        "    shuffle=True, # Перемешаем наши данные\n",
        "    partition_random_seed=0,\n",
        "    plot=True, # Никуда без визуализатора\n",
        "    stratified=True,\n",
        "    verbose=30\n",
        ")"
      ],
      "metadata": {
        "execution": {
          "iopub.status.busy": "2024-04-09T21:31:43.014578Z",
          "iopub.execute_input": "2024-04-09T21:31:43.015209Z",
          "iopub.status.idle": "2024-04-09T21:39:13.804944Z",
          "shell.execute_reply.started": "2024-04-09T21:31:43.015179Z",
          "shell.execute_reply": "2024-04-09T21:39:13.803441Z"
        },
        "trusted": true,
        "id": "13GpaNRXffK9",
        "outputId": "85526a6f-6bc9-45ae-a3f3-a59d5fbbb9f3",
        "colab": {
          "referenced_widgets": [
            "029ffeda920240b3a424c6f25ba60198"
          ]
        }
      },
      "execution_count": null,
      "outputs": [
        {
          "output_type": "display_data",
          "data": {
            "text/plain": "MetricVisualizer(layout=Layout(align_self='stretch', height='500px'))",
            "application/vnd.jupyter.widget-view+json": {
              "version_major": 2,
              "version_minor": 0,
              "model_id": "029ffeda920240b3a424c6f25ba60198"
            }
          },
          "metadata": {}
        },
        {
          "name": "stdout",
          "text": "Training on fold [0/5]\n0:\tlearn: 2.0352451\ttest: 2.0356980\tbest: 2.0356980 (0)\ttotal: 512ms\tremaining: 4m 21s\n30:\tlearn: 0.8554373\ttest: 0.8712773\tbest: 0.8712773 (30)\ttotal: 16.9s\tremaining: 4m 22s\n60:\tlearn: 0.7947522\ttest: 0.8246866\tbest: 0.8246866 (60)\ttotal: 33.6s\tremaining: 4m 8s\n90:\tlearn: 0.7590677\ttest: 0.8060944\tbest: 0.8060944 (90)\ttotal: 50.8s\tremaining: 3m 54s\n120:\tlearn: 0.7298197\ttest: 0.7923313\tbest: 0.7923313 (120)\ttotal: 1m 7s\tremaining: 3m 38s\n150:\tlearn: 0.7000708\ttest: 0.7792932\tbest: 0.7792932 (150)\ttotal: 1m 25s\tremaining: 3m 23s\n180:\tlearn: 0.6718622\ttest: 0.7670292\tbest: 0.7670292 (180)\ttotal: 1m 42s\tremaining: 3m 7s\n210:\tlearn: 0.6465212\ttest: 0.7560305\tbest: 0.7560305 (210)\ttotal: 1m 59s\tremaining: 2m 50s\n240:\tlearn: 0.6208759\ttest: 0.7454373\tbest: 0.7454373 (240)\ttotal: 2m 17s\tremaining: 2m 34s\n270:\tlearn: 0.6002261\ttest: 0.7368691\tbest: 0.7368691 (270)\ttotal: 2m 34s\tremaining: 2m 17s\n300:\tlearn: 0.5793612\ttest: 0.7275141\tbest: 0.7275141 (300)\ttotal: 2m 51s\tremaining: 2m\n330:\tlearn: 0.5597416\ttest: 0.7192502\tbest: 0.7192502 (330)\ttotal: 3m 9s\tremaining: 1m 43s\n360:\tlearn: 0.5392219\ttest: 0.7100961\tbest: 0.7100961 (360)\ttotal: 3m 26s\tremaining: 1m 26s\n390:\tlearn: 0.5208656\ttest: 0.7018107\tbest: 0.7018107 (390)\ttotal: 3m 44s\tremaining: 1m 9s\n420:\tlearn: 0.5019409\ttest: 0.6930381\tbest: 0.6930381 (420)\ttotal: 4m 1s\tremaining: 52.3s\n450:\tlearn: 0.4847952\ttest: 0.6853437\tbest: 0.6853437 (450)\ttotal: 4m 19s\tremaining: 35.1s\n480:\tlearn: 0.4646021\ttest: 0.6750620\tbest: 0.6750620 (480)\ttotal: 4m 37s\tremaining: 17.9s\n510:\tlearn: 0.4478743\ttest: 0.6671923\tbest: 0.6671923 (510)\ttotal: 4m 55s\tremaining: 578ms\n511:\tlearn: 0.4475797\ttest: 0.6670504\tbest: 0.6670504 (511)\ttotal: 4m 55s\tremaining: 0us\nbestTest = 0.6670504365\nbestIteration = 511\nTraining on fold [1/5]\n0:\tlearn: 2.0358387\ttest: 2.0370357\tbest: 2.0370357 (0)\ttotal: 505ms\tremaining: 4m 18s\n30:\tlearn: 0.8541216\ttest: 0.8716384\tbest: 0.8716384 (30)\ttotal: 17.1s\tremaining: 4m 24s\n60:\tlearn: 0.7932684\ttest: 0.8236670\tbest: 0.8236670 (60)\ttotal: 33.6s\tremaining: 4m 8s\n90:\tlearn: 0.7587252\ttest: 0.8059317\tbest: 0.8059317 (90)\ttotal: 50.7s\tremaining: 3m 54s\n120:\tlearn: 0.7234364\ttest: 0.7903304\tbest: 0.7903304 (120)\ttotal: 1m 8s\tremaining: 3m 40s\n150:\tlearn: 0.6933061\ttest: 0.7769829\tbest: 0.7769829 (150)\ttotal: 1m 25s\tremaining: 3m 24s\n180:\tlearn: 0.6638482\ttest: 0.7643900\tbest: 0.7643900 (180)\ttotal: 1m 43s\tremaining: 3m 8s\n210:\tlearn: 0.6365938\ttest: 0.7530632\tbest: 0.7530632 (210)\ttotal: 2m\tremaining: 2m 52s\n240:\tlearn: 0.6136751\ttest: 0.7438287\tbest: 0.7438287 (240)\ttotal: 2m 18s\tremaining: 2m 35s\n",
          "output_type": "stream"
        },
        {
          "traceback": [
            "\u001b[0;31m---------------------------------------------------------------------------\u001b[0m",
            "\u001b[0;31mKeyboardInterrupt\u001b[0m                         Traceback (most recent call last)",
            "Cell \u001b[0;32mIn[108], line 13\u001b[0m\n\u001b[1;32m      1\u001b[0m \u001b[38;5;28;01mfrom\u001b[39;00m \u001b[38;5;21;01mcatboost\u001b[39;00m \u001b[38;5;28;01mimport\u001b[39;00m cv\n\u001b[1;32m      3\u001b[0m params \u001b[38;5;241m=\u001b[39m {\n\u001b[1;32m      4\u001b[0m     \u001b[38;5;124m'\u001b[39m\u001b[38;5;124mloss_function\u001b[39m\u001b[38;5;124m'\u001b[39m: \u001b[38;5;124m'\u001b[39m\u001b[38;5;124mMultiClass\u001b[39m\u001b[38;5;124m'\u001b[39m,\n\u001b[1;32m      5\u001b[0m     \u001b[38;5;124m'\u001b[39m\u001b[38;5;124miterations\u001b[39m\u001b[38;5;124m'\u001b[39m: \u001b[38;5;241m512\u001b[39m,\n\u001b[0;32m   (...)\u001b[0m\n\u001b[1;32m     10\u001b[0m     \u001b[38;5;124m'\u001b[39m\u001b[38;5;124mdevices\u001b[39m\u001b[38;5;124m'\u001b[39m:\u001b[38;5;124m'\u001b[39m\u001b[38;5;124m0\u001b[39m\u001b[38;5;124m'\u001b[39m\n\u001b[1;32m     11\u001b[0m }\n\u001b[0;32m---> 13\u001b[0m cv_data \u001b[38;5;241m=\u001b[39m \u001b[43mcv\u001b[49m\u001b[43m(\u001b[49m\n\u001b[1;32m     14\u001b[0m \u001b[43m    \u001b[49m\u001b[43mparams\u001b[49m\u001b[38;5;241;43m=\u001b[39;49m\u001b[43mparams\u001b[49m\u001b[43m,\u001b[49m\n\u001b[1;32m     15\u001b[0m \u001b[43m    \u001b[49m\u001b[43mpool\u001b[49m\u001b[38;5;241;43m=\u001b[39;49m\u001b[43mpool1\u001b[49m\u001b[43m,\u001b[49m\n\u001b[1;32m     16\u001b[0m \u001b[43m    \u001b[49m\u001b[43mfold_count\u001b[49m\u001b[38;5;241;43m=\u001b[39;49m\u001b[38;5;241;43m5\u001b[39;49m\u001b[43m,\u001b[49m\u001b[43m \u001b[49m\u001b[38;5;66;43;03m# Разбивка выборки на 5 кусочков\u001b[39;49;00m\n\u001b[1;32m     17\u001b[0m \u001b[43m    \u001b[49m\u001b[43mshuffle\u001b[49m\u001b[38;5;241;43m=\u001b[39;49m\u001b[38;5;28;43;01mTrue\u001b[39;49;00m\u001b[43m,\u001b[49m\u001b[43m \u001b[49m\u001b[38;5;66;43;03m# Перемешаем наши данные\u001b[39;49;00m\n\u001b[1;32m     18\u001b[0m \u001b[43m    \u001b[49m\u001b[43mpartition_random_seed\u001b[49m\u001b[38;5;241;43m=\u001b[39;49m\u001b[38;5;241;43m0\u001b[39;49m\u001b[43m,\u001b[49m\n\u001b[1;32m     19\u001b[0m \u001b[43m    \u001b[49m\u001b[43mplot\u001b[49m\u001b[38;5;241;43m=\u001b[39;49m\u001b[38;5;28;43;01mTrue\u001b[39;49;00m\u001b[43m,\u001b[49m\u001b[43m \u001b[49m\u001b[38;5;66;43;03m# Никуда без визуализатора\u001b[39;49;00m\n\u001b[1;32m     20\u001b[0m \u001b[43m    \u001b[49m\u001b[43mstratified\u001b[49m\u001b[38;5;241;43m=\u001b[39;49m\u001b[38;5;28;43;01mTrue\u001b[39;49;00m\u001b[43m,\u001b[49m\u001b[43m \u001b[49m\n\u001b[1;32m     21\u001b[0m \u001b[43m    \u001b[49m\u001b[43mverbose\u001b[49m\u001b[38;5;241;43m=\u001b[39;49m\u001b[38;5;241;43m30\u001b[39;49m\n\u001b[1;32m     22\u001b[0m \u001b[43m)\u001b[49m\n",
            "File \u001b[0;32m/opt/conda/lib/python3.10/site-packages/catboost/core.py:6902\u001b[0m, in \u001b[0;36mcv\u001b[0;34m(pool, params, dtrain, iterations, num_boost_round, fold_count, nfold, inverted, partition_random_seed, seed, shuffle, logging_level, stratified, as_pandas, metric_period, verbose, verbose_eval, plot, plot_file, early_stopping_rounds, save_snapshot, snapshot_file, snapshot_interval, metric_update_interval, folds, type, return_models, log_cout, log_cerr)\u001b[0m\n\u001b[1;32m   6900\u001b[0m \u001b[38;5;28;01mwith\u001b[39;00m log_fixup(log_cout, log_cerr), plot_wrapper(plot, plot_file\u001b[38;5;241m=\u001b[39mplot_file, plot_title\u001b[38;5;241m=\u001b[39m\u001b[38;5;124m'\u001b[39m\u001b[38;5;124mCross-validation plot\u001b[39m\u001b[38;5;124m'\u001b[39m, train_dirs\u001b[38;5;241m=\u001b[39mplot_dirs):\n\u001b[1;32m   6901\u001b[0m     \u001b[38;5;28;01mif\u001b[39;00m \u001b[38;5;129;01mnot\u001b[39;00m return_models:\n\u001b[0;32m-> 6902\u001b[0m         \u001b[38;5;28;01mreturn\u001b[39;00m \u001b[43m_cv\u001b[49m\u001b[43m(\u001b[49m\n\u001b[1;32m   6903\u001b[0m \u001b[43m            \u001b[49m\u001b[43mparams\u001b[49m\u001b[43m,\u001b[49m\n\u001b[1;32m   6904\u001b[0m \u001b[43m            \u001b[49m\u001b[43mpool\u001b[49m\u001b[43m,\u001b[49m\n\u001b[1;32m   6905\u001b[0m \u001b[43m            \u001b[49m\u001b[43mfold_count\u001b[49m\u001b[43m,\u001b[49m\n\u001b[1;32m   6906\u001b[0m \u001b[43m            \u001b[49m\u001b[43minverted\u001b[49m\u001b[43m,\u001b[49m\n\u001b[1;32m   6907\u001b[0m \u001b[43m            \u001b[49m\u001b[43mpartition_random_seed\u001b[49m\u001b[43m,\u001b[49m\n\u001b[1;32m   6908\u001b[0m \u001b[43m            \u001b[49m\u001b[43mshuffle\u001b[49m\u001b[43m,\u001b[49m\n\u001b[1;32m   6909\u001b[0m \u001b[43m            \u001b[49m\u001b[43mstratified\u001b[49m\u001b[43m,\u001b[49m\n\u001b[1;32m   6910\u001b[0m \u001b[43m            \u001b[49m\u001b[43mmetric_update_interval\u001b[49m\u001b[43m,\u001b[49m\n\u001b[1;32m   6911\u001b[0m \u001b[43m            \u001b[49m\u001b[43mas_pandas\u001b[49m\u001b[43m,\u001b[49m\n\u001b[1;32m   6912\u001b[0m \u001b[43m            \u001b[49m\u001b[43mfolds\u001b[49m\u001b[43m,\u001b[49m\n\u001b[1;32m   6913\u001b[0m \u001b[43m            \u001b[49m\u001b[38;5;28;43mtype\u001b[39;49m\u001b[43m,\u001b[49m\n\u001b[1;32m   6914\u001b[0m \u001b[43m            \u001b[49m\u001b[43mreturn_models\u001b[49m\n\u001b[1;32m   6915\u001b[0m \u001b[43m        \u001b[49m\u001b[43m)\u001b[49m\n\u001b[1;32m   6916\u001b[0m     \u001b[38;5;28;01melse\u001b[39;00m:\n\u001b[1;32m   6917\u001b[0m         results, cv_models \u001b[38;5;241m=\u001b[39m _cv(\n\u001b[1;32m   6918\u001b[0m             params,\n\u001b[1;32m   6919\u001b[0m             pool,\n\u001b[0;32m   (...)\u001b[0m\n\u001b[1;32m   6929\u001b[0m             return_models\n\u001b[1;32m   6930\u001b[0m         )\n",
            "File \u001b[0;32m_catboost.pyx:5696\u001b[0m, in \u001b[0;36m_catboost._cv\u001b[0;34m()\u001b[0m\n",
            "File \u001b[0;32m_catboost.pyx:5728\u001b[0m, in \u001b[0;36m_catboost._cv\u001b[0;34m()\u001b[0m\n",
            "\u001b[0;31mKeyboardInterrupt\u001b[0m: "
          ],
          "ename": "KeyboardInterrupt",
          "evalue": "",
          "output_type": "error"
        }
      ],
      "id": "13GpaNRXffK9"
    },
    {
      "cell_type": "code",
      "source": [
        "cv_data"
      ],
      "metadata": {
        "id": "5n1q2AWKffK9"
      },
      "execution_count": null,
      "outputs": [],
      "id": "5n1q2AWKffK9"
    },
    {
      "cell_type": "code",
      "source": [
        "best_value = np.min(cv_data['test-Logloss-mean'])\n",
        "best_iter = np.argmin(cv_data['test-Logloss-mean'])\n",
        "print(\"Best validation Logloss score, stratified: {:.4f}+/-{:.3f} on step {}\".format(\n",
        "best_value, cv_data['test-Logloss-std'][best_iter], best_iter))"
      ],
      "metadata": {
        "id": "jmHNIBB_ffK9"
      },
      "execution_count": null,
      "outputs": [],
      "id": "jmHNIBB_ffK9"
    },
    {
      "cell_type": "markdown",
      "source": [
        "## Обучение модели"
      ],
      "metadata": {
        "id": "vkyL_GYgNMCL"
      },
      "id": "vkyL_GYgNMCL"
    },
    {
      "cell_type": "markdown",
      "source": [
        "### CatBoostClassifier"
      ],
      "metadata": {
        "id": "DWp1L_JgKP1x"
      },
      "id": "DWp1L_JgKP1x"
    },
    {
      "cell_type": "markdown",
      "source": [
        "model #7"
      ],
      "metadata": {
        "id": "M8bjdcR9ffK9"
      },
      "id": "M8bjdcR9ffK9"
    },
    {
      "cell_type": "code",
      "source": [
        "model = CatBoostClassifier(iterations=1024,\n",
        "                           depth=13,\n",
        "                           learning_rate=0.075,\n",
        "                           random_seed=43,\n",
        "                           loss_function='MultiClass',\n",
        "                           task_type=\"GPU\",\n",
        "                           devices='0',\n",
        "                           early_stopping_rounds=20\n",
        "                          )"
      ],
      "metadata": {
        "id": "_dRxWwcQzyrG",
        "execution": {
          "iopub.status.busy": "2024-04-10T00:14:47.071021Z",
          "iopub.execute_input": "2024-04-10T00:14:47.071554Z",
          "iopub.status.idle": "2024-04-10T00:14:47.076705Z",
          "shell.execute_reply.started": "2024-04-10T00:14:47.071522Z",
          "shell.execute_reply": "2024-04-10T00:14:47.075723Z"
        },
        "trusted": true
      },
      "execution_count": null,
      "outputs": [],
      "id": "_dRxWwcQzyrG"
    },
    {
      "cell_type": "code",
      "source": [
        "model.fit(\n",
        "    x_train, y_train,\n",
        "    cat_features=np.array(cat_names),\n",
        "    eval_set=(x_val, y_val),\n",
        "    verbose=15,\n",
        "    plot=True\n",
        ")"
      ],
      "metadata": {
        "execution": {
          "iopub.status.busy": "2024-04-10T00:14:51.050266Z",
          "iopub.execute_input": "2024-04-10T00:14:51.051158Z",
          "iopub.status.idle": "2024-04-10T00:33:42.545067Z",
          "shell.execute_reply.started": "2024-04-10T00:14:51.051126Z",
          "shell.execute_reply": "2024-04-10T00:33:42.544046Z"
        },
        "trusted": true,
        "id": "7x7F2QRWffK-",
        "outputId": "1496de32-3e02-45d8-b6ca-cabd2db69d9c",
        "colab": {
          "referenced_widgets": [
            "5d1eeada0f204ba3ba2778c5324e883d"
          ]
        }
      },
      "execution_count": null,
      "outputs": [
        {
          "output_type": "display_data",
          "data": {
            "text/plain": "MetricVisualizer(layout=Layout(align_self='stretch', height='500px'))",
            "application/vnd.jupyter.widget-view+json": {
              "version_major": 2,
              "version_minor": 0,
              "model_id": "5d1eeada0f204ba3ba2778c5324e883d"
            }
          },
          "metadata": {}
        },
        {
          "name": "stdout",
          "text": "0:\tlearn: 2.2217977\ttest: 2.2234760\tbest: 2.2234760 (0)\ttotal: 1s\tremaining: 17m 4s\n15:\tlearn: 1.0702212\ttest: 1.0780700\tbest: 1.0780700 (15)\ttotal: 15.8s\tremaining: 16m 35s\n30:\tlearn: 0.8955309\ttest: 0.9115671\tbest: 0.9115671 (30)\ttotal: 31.3s\tremaining: 16m 43s\n45:\tlearn: 0.8349999\ttest: 0.8605016\tbest: 0.8605016 (45)\ttotal: 47.4s\tremaining: 16m 46s\n60:\tlearn: 0.8058072\ttest: 0.8375057\tbest: 0.8375057 (60)\ttotal: 1m 2s\tremaining: 16m 33s\n75:\tlearn: 0.7814049\ttest: 0.8230622\tbest: 0.8230622 (75)\ttotal: 1m 19s\tremaining: 16m 29s\n90:\tlearn: 0.7644671\ttest: 0.8140569\tbest: 0.8140569 (90)\ttotal: 1m 35s\tremaining: 16m 19s\n105:\tlearn: 0.7480482\ttest: 0.8060426\tbest: 0.8060426 (105)\ttotal: 1m 51s\tremaining: 16m 4s\n120:\tlearn: 0.7330863\ttest: 0.7986402\tbest: 0.7986402 (120)\ttotal: 2m 7s\tremaining: 15m 49s\n135:\tlearn: 0.7167579\ttest: 0.7912322\tbest: 0.7912322 (135)\ttotal: 2m 23s\tremaining: 15m 37s\n150:\tlearn: 0.6990956\ttest: 0.7835782\tbest: 0.7835782 (150)\ttotal: 2m 40s\tremaining: 15m 25s\n165:\tlearn: 0.6800890\ttest: 0.7750848\tbest: 0.7750848 (165)\ttotal: 2m 56s\tremaining: 15m 13s\n180:\tlearn: 0.6668688\ttest: 0.7692962\tbest: 0.7692962 (180)\ttotal: 3m 12s\tremaining: 14m 57s\n195:\tlearn: 0.6511439\ttest: 0.7619521\tbest: 0.7619521 (195)\ttotal: 3m 29s\tremaining: 14m 44s\n210:\tlearn: 0.6384695\ttest: 0.7561089\tbest: 0.7561089 (210)\ttotal: 3m 45s\tremaining: 14m 27s\n225:\tlearn: 0.6259436\ttest: 0.7501938\tbest: 0.7501938 (225)\ttotal: 4m 1s\tremaining: 14m 12s\n240:\tlearn: 0.6139311\ttest: 0.7452240\tbest: 0.7452240 (240)\ttotal: 4m 17s\tremaining: 13m 56s\n255:\tlearn: 0.6015790\ttest: 0.7394394\tbest: 0.7394394 (255)\ttotal: 4m 33s\tremaining: 13m 40s\n270:\tlearn: 0.5893119\ttest: 0.7340958\tbest: 0.7340958 (270)\ttotal: 4m 50s\tremaining: 13m 25s\n285:\tlearn: 0.5775151\ttest: 0.7289503\tbest: 0.7289503 (285)\ttotal: 5m 6s\tremaining: 13m 10s\n300:\tlearn: 0.5648375\ttest: 0.7230046\tbest: 0.7230046 (300)\ttotal: 5m 22s\tremaining: 12m 55s\n315:\tlearn: 0.5514866\ttest: 0.7168729\tbest: 0.7168729 (315)\ttotal: 5m 39s\tremaining: 12m 40s\n330:\tlearn: 0.5413131\ttest: 0.7120896\tbest: 0.7120896 (330)\ttotal: 5m 55s\tremaining: 12m 24s\n345:\tlearn: 0.5324389\ttest: 0.7084422\tbest: 0.7084422 (345)\ttotal: 6m 11s\tremaining: 12m 8s\n360:\tlearn: 0.5224869\ttest: 0.7039926\tbest: 0.7039926 (360)\ttotal: 6m 27s\tremaining: 11m 52s\n375:\tlearn: 0.5124455\ttest: 0.6991240\tbest: 0.6991240 (375)\ttotal: 6m 44s\tremaining: 11m 36s\n390:\tlearn: 0.5026646\ttest: 0.6943436\tbest: 0.6943436 (390)\ttotal: 7m\tremaining: 11m 20s\n405:\tlearn: 0.4933975\ttest: 0.6899038\tbest: 0.6899038 (405)\ttotal: 7m 16s\tremaining: 11m 4s\n420:\tlearn: 0.4844571\ttest: 0.6856698\tbest: 0.6856698 (420)\ttotal: 7m 32s\tremaining: 10m 48s\n435:\tlearn: 0.4768047\ttest: 0.6819366\tbest: 0.6819366 (435)\ttotal: 7m 48s\tremaining: 10m 32s\n450:\tlearn: 0.4676046\ttest: 0.6778834\tbest: 0.6778834 (450)\ttotal: 8m 5s\tremaining: 10m 16s\n465:\tlearn: 0.4595444\ttest: 0.6738376\tbest: 0.6738376 (465)\ttotal: 8m 21s\tremaining: 10m\n480:\tlearn: 0.4528386\ttest: 0.6709260\tbest: 0.6709260 (480)\ttotal: 8m 37s\tremaining: 9m 44s\n495:\tlearn: 0.4443949\ttest: 0.6669124\tbest: 0.6669124 (495)\ttotal: 8m 54s\tremaining: 9m 28s\n510:\tlearn: 0.4371756\ttest: 0.6637074\tbest: 0.6637074 (510)\ttotal: 9m 10s\tremaining: 9m 12s\n525:\tlearn: 0.4294333\ttest: 0.6598700\tbest: 0.6598700 (525)\ttotal: 9m 27s\tremaining: 8m 56s\n540:\tlearn: 0.4218341\ttest: 0.6558109\tbest: 0.6558109 (540)\ttotal: 9m 43s\tremaining: 8m 41s\n555:\tlearn: 0.4150203\ttest: 0.6524546\tbest: 0.6524546 (555)\ttotal: 9m 59s\tremaining: 8m 24s\n570:\tlearn: 0.4072041\ttest: 0.6485192\tbest: 0.6485192 (570)\ttotal: 10m 16s\tremaining: 8m 9s\n585:\tlearn: 0.3994905\ttest: 0.6445951\tbest: 0.6445951 (585)\ttotal: 10m 33s\tremaining: 7m 53s\n600:\tlearn: 0.3926087\ttest: 0.6411980\tbest: 0.6411980 (600)\ttotal: 10m 49s\tremaining: 7m 37s\n615:\tlearn: 0.3847569\ttest: 0.6372382\tbest: 0.6372382 (615)\ttotal: 11m 6s\tremaining: 7m 21s\n630:\tlearn: 0.3779098\ttest: 0.6334804\tbest: 0.6334804 (630)\ttotal: 11m 23s\tremaining: 7m 5s\n645:\tlearn: 0.3712435\ttest: 0.6303289\tbest: 0.6303289 (645)\ttotal: 11m 39s\tremaining: 6m 49s\n660:\tlearn: 0.3638142\ttest: 0.6266335\tbest: 0.6266335 (660)\ttotal: 11m 56s\tremaining: 6m 33s\n675:\tlearn: 0.3573251\ttest: 0.6233838\tbest: 0.6233838 (675)\ttotal: 12m 13s\tremaining: 6m 17s\n690:\tlearn: 0.3507289\ttest: 0.6197931\tbest: 0.6197931 (690)\ttotal: 12m 30s\tremaining: 6m 1s\n705:\tlearn: 0.3445506\ttest: 0.6164305\tbest: 0.6164305 (705)\ttotal: 12m 47s\tremaining: 5m 45s\n720:\tlearn: 0.3397110\ttest: 0.6140015\tbest: 0.6140015 (720)\ttotal: 13m 4s\tremaining: 5m 29s\n735:\tlearn: 0.3340726\ttest: 0.6112219\tbest: 0.6112219 (735)\ttotal: 13m 21s\tremaining: 5m 13s\n750:\tlearn: 0.3280195\ttest: 0.6077467\tbest: 0.6077467 (750)\ttotal: 13m 37s\tremaining: 4m 57s\n765:\tlearn: 0.3229120\ttest: 0.6051541\tbest: 0.6051485 (764)\ttotal: 13m 54s\tremaining: 4m 41s\n780:\tlearn: 0.3174131\ttest: 0.6025792\tbest: 0.6025792 (780)\ttotal: 14m 11s\tremaining: 4m 24s\n795:\tlearn: 0.3125815\ttest: 0.6000633\tbest: 0.6000633 (795)\ttotal: 14m 28s\tremaining: 4m 8s\n810:\tlearn: 0.3075950\ttest: 0.5976514\tbest: 0.5976514 (810)\ttotal: 14m 44s\tremaining: 3m 52s\n825:\tlearn: 0.3025504\ttest: 0.5951949\tbest: 0.5951949 (825)\ttotal: 15m 1s\tremaining: 3m 36s\n840:\tlearn: 0.2981113\ttest: 0.5929473\tbest: 0.5929473 (840)\ttotal: 15m 18s\tremaining: 3m 19s\n855:\tlearn: 0.2933331\ttest: 0.5905790\tbest: 0.5905790 (855)\ttotal: 15m 34s\tremaining: 3m 3s\n870:\tlearn: 0.2882864\ttest: 0.5878979\tbest: 0.5878979 (870)\ttotal: 15m 52s\tremaining: 2m 47s\n885:\tlearn: 0.2841436\ttest: 0.5858594\tbest: 0.5858594 (885)\ttotal: 16m 8s\tremaining: 2m 30s\n900:\tlearn: 0.2801603\ttest: 0.5840887\tbest: 0.5840887 (900)\ttotal: 16m 25s\tremaining: 2m 14s\n915:\tlearn: 0.2761045\ttest: 0.5819323\tbest: 0.5819323 (915)\ttotal: 16m 42s\tremaining: 1m 58s\n930:\tlearn: 0.2723973\ttest: 0.5800722\tbest: 0.5800722 (930)\ttotal: 16m 58s\tremaining: 1m 41s\n945:\tlearn: 0.2692722\ttest: 0.5784293\tbest: 0.5784293 (945)\ttotal: 17m 15s\tremaining: 1m 25s\n960:\tlearn: 0.2652629\ttest: 0.5762171\tbest: 0.5762171 (960)\ttotal: 17m 32s\tremaining: 1m 8s\n975:\tlearn: 0.2614408\ttest: 0.5742833\tbest: 0.5742833 (975)\ttotal: 17m 49s\tremaining: 52.6s\n990:\tlearn: 0.2578312\ttest: 0.5727020\tbest: 0.5727020 (990)\ttotal: 18m 5s\tremaining: 36.2s\n1005:\tlearn: 0.2542065\ttest: 0.5708719\tbest: 0.5708719 (1005)\ttotal: 18m 22s\tremaining: 19.7s\n1020:\tlearn: 0.2504655\ttest: 0.5689620\tbest: 0.5689620 (1020)\ttotal: 18m 38s\tremaining: 3.29s\n1023:\tlearn: 0.2497533\ttest: 0.5686094\tbest: 0.5686094 (1023)\ttotal: 18m 42s\tremaining: 0us\nbestTest = 0.5686094401\nbestIteration = 1023\n",
          "output_type": "stream"
        },
        {
          "execution_count": 126,
          "output_type": "execute_result",
          "data": {
            "text/plain": "<catboost.core.CatBoostClassifier at 0x79baf8b8b1c0>"
          },
          "metadata": {}
        }
      ],
      "id": "7x7F2QRWffK-"
    },
    {
      "cell_type": "code",
      "source": [
        "model.save_model('catboost_model_7.json')"
      ],
      "metadata": {
        "execution": {
          "iopub.status.busy": "2024-04-10T00:33:42.546574Z",
          "iopub.execute_input": "2024-04-10T00:33:42.546859Z",
          "iopub.status.idle": "2024-04-10T00:33:50.876893Z",
          "shell.execute_reply.started": "2024-04-10T00:33:42.546835Z",
          "shell.execute_reply": "2024-04-10T00:33:50.875735Z"
        },
        "trusted": true,
        "id": "K5KwHIjkffK-"
      },
      "execution_count": null,
      "outputs": [],
      "id": "K5KwHIjkffK-"
    },
    {
      "cell_type": "code",
      "source": [
        "model.get_feature_importance(prettified=True)"
      ],
      "metadata": {
        "execution": {
          "iopub.status.busy": "2024-04-10T00:33:50.878069Z",
          "iopub.execute_input": "2024-04-10T00:33:50.878414Z",
          "iopub.status.idle": "2024-04-10T00:33:52.819824Z",
          "shell.execute_reply.started": "2024-04-10T00:33:50.878375Z",
          "shell.execute_reply": "2024-04-10T00:33:52.818891Z"
        },
        "trusted": true,
        "id": "q4l0uoKUffK-",
        "outputId": "a2ecf99d-1c04-43f9-8919-b38d6af23492"
      },
      "execution_count": null,
      "outputs": [
        {
          "execution_count": 128,
          "output_type": "execute_result",
          "data": {
            "text/plain": "                 Feature Id  Importances\n0                     okved    12.414585\n1           index_city_code     9.425389\n2              channel_code     9.326252\n3                ogrn_month     7.184533\n4       ogrn_days_end_month     6.400968\n5             start_cluster     6.323104\n6     ogrn_days_end_quarter     6.220017\n7                      city     5.528557\n8                   segment     3.373929\n9                 ogrn_year     3.330319\n10          balance_amt_min     2.914288\n11        ogrn_exist_months     2.795073\n12          min_founderpres     2.676874\n13          max_founderpres     2.306564\n14     ft_registration_date     1.867227\n15           sum_of_paym_1y     1.532108\n16          balance_amt_max     1.192762\n17          balance_amt_avg     0.759631\n18      balance_amt_day_avg     0.678197\n19        sum_deb_f_oper_3m     0.634474\n20   cnt_days_deb_e_oper_3m     0.608288\n21       sum_cred_e_oper_3m     0.579044\n22           sum_of_paym_2m     0.519644\n23           sum_of_paym_6m     0.512302\n24       sum_cred_e_oper_1m     0.470200\n25       cnt_cred_e_oper_3m     0.468273\n26        sum_deb_g_oper_3m     0.467893\n27  cnt_days_cred_e_oper_3m     0.442133\n28        sum_deb_e_oper_3m     0.438896\n29                city_type     0.423884\n30       sum_cred_h_oper_3m     0.410936\n31        sum_deb_h_oper_3m     0.391121\n32        cnt_deb_f_oper_3m     0.343556\n33        cnt_deb_g_oper_3m     0.333381\n34       sum_cred_g_oper_3m     0.313642\n35  cnt_days_cred_e_oper_1m     0.307346\n36            sum_c_oper_3m     0.306847\n37        cnt_deb_e_oper_3m     0.306144\n38            cnt_a_oper_3m     0.295271\n39        sum_deb_d_oper_3m     0.286226\n40        cnt_deb_h_oper_3m     0.277338\n41        cnt_deb_e_oper_1m     0.274447\n42        sum_deb_e_oper_1m     0.252396\n43  cnt_days_cred_h_oper_3m     0.243658\n44       cnt_cred_e_oper_1m     0.222671\n45        cnt_deb_d_oper_3m     0.219335\n46   cnt_days_deb_h_oper_1m     0.215657\n47            sum_a_oper_3m     0.211001\n48   cnt_days_deb_f_oper_3m     0.204820\n49       cnt_cred_h_oper_3m     0.191619\n50            cnt_c_oper_3m     0.186610\n51        sum_deb_h_oper_1m     0.185115\n52        sum_deb_d_oper_1m     0.184642\n53   cnt_days_deb_g_oper_3m     0.163273\n54        sum_deb_f_oper_1m     0.149303\n55            cnt_c_oper_1m     0.115175\n56   cnt_days_deb_e_oper_1m     0.108458\n57        sum_deb_g_oper_1m     0.108124\n58        cnt_deb_d_oper_1m     0.101642\n59       cnt_cred_g_oper_3m     0.094833\n60       sum_cred_h_oper_1m     0.087059\n61       cnt_cred_d_oper_1m     0.085720\n62       cnt_cred_h_oper_1m     0.077606\n63   cnt_days_deb_h_oper_3m     0.071540\n64       sum_cred_f_oper_3m     0.070153\n65        cnt_deb_h_oper_1m     0.064176\n66        cnt_deb_f_oper_1m     0.060552\n67            cnt_b_oper_3m     0.058054\n68       sum_cred_d_oper_3m     0.057723\n69        cnt_deb_g_oper_1m     0.055569\n70       cnt_cred_g_oper_1m     0.051470\n71            cnt_a_oper_1m     0.051238\n72            sum_a_oper_1m     0.050236\n73  cnt_days_cred_h_oper_1m     0.050064\n74  cnt_days_cred_g_oper_3m     0.043214\n75   cnt_days_deb_g_oper_1m     0.039351\n76            sum_b_oper_3m     0.032926\n77       sum_cred_g_oper_1m     0.029848\n78            sum_c_oper_1m     0.027367\n79            cnt_b_oper_1m     0.027331\n80  cnt_days_cred_f_oper_1m     0.023068\n81            sum_b_oper_1m     0.020342\n82   cnt_days_deb_f_oper_1m     0.012703\n83       cnt_cred_d_oper_3m     0.011320\n84       sum_cred_d_oper_1m     0.007972\n85       cnt_cred_f_oper_3m     0.005845\n86       sum_cred_f_oper_1m     0.004698\n87  cnt_days_cred_f_oper_3m     0.002542\n88       cnt_cred_f_oper_1m     0.000206\n89  cnt_days_cred_g_oper_1m     0.000114",
            "text/html": "<div>\n<style scoped>\n    .dataframe tbody tr th:only-of-type {\n        vertical-align: middle;\n    }\n\n    .dataframe tbody tr th {\n        vertical-align: top;\n    }\n\n    .dataframe thead th {\n        text-align: right;\n    }\n</style>\n<table border=\"1\" class=\"dataframe\">\n  <thead>\n    <tr style=\"text-align: right;\">\n      <th></th>\n      <th>Feature Id</th>\n      <th>Importances</th>\n    </tr>\n  </thead>\n  <tbody>\n    <tr>\n      <th>0</th>\n      <td>okved</td>\n      <td>12.414585</td>\n    </tr>\n    <tr>\n      <th>1</th>\n      <td>index_city_code</td>\n      <td>9.425389</td>\n    </tr>\n    <tr>\n      <th>2</th>\n      <td>channel_code</td>\n      <td>9.326252</td>\n    </tr>\n    <tr>\n      <th>3</th>\n      <td>ogrn_month</td>\n      <td>7.184533</td>\n    </tr>\n    <tr>\n      <th>4</th>\n      <td>ogrn_days_end_month</td>\n      <td>6.400968</td>\n    </tr>\n    <tr>\n      <th>5</th>\n      <td>start_cluster</td>\n      <td>6.323104</td>\n    </tr>\n    <tr>\n      <th>6</th>\n      <td>ogrn_days_end_quarter</td>\n      <td>6.220017</td>\n    </tr>\n    <tr>\n      <th>7</th>\n      <td>city</td>\n      <td>5.528557</td>\n    </tr>\n    <tr>\n      <th>8</th>\n      <td>segment</td>\n      <td>3.373929</td>\n    </tr>\n    <tr>\n      <th>9</th>\n      <td>ogrn_year</td>\n      <td>3.330319</td>\n    </tr>\n    <tr>\n      <th>10</th>\n      <td>balance_amt_min</td>\n      <td>2.914288</td>\n    </tr>\n    <tr>\n      <th>11</th>\n      <td>ogrn_exist_months</td>\n      <td>2.795073</td>\n    </tr>\n    <tr>\n      <th>12</th>\n      <td>min_founderpres</td>\n      <td>2.676874</td>\n    </tr>\n    <tr>\n      <th>13</th>\n      <td>max_founderpres</td>\n      <td>2.306564</td>\n    </tr>\n    <tr>\n      <th>14</th>\n      <td>ft_registration_date</td>\n      <td>1.867227</td>\n    </tr>\n    <tr>\n      <th>15</th>\n      <td>sum_of_paym_1y</td>\n      <td>1.532108</td>\n    </tr>\n    <tr>\n      <th>16</th>\n      <td>balance_amt_max</td>\n      <td>1.192762</td>\n    </tr>\n    <tr>\n      <th>17</th>\n      <td>balance_amt_avg</td>\n      <td>0.759631</td>\n    </tr>\n    <tr>\n      <th>18</th>\n      <td>balance_amt_day_avg</td>\n      <td>0.678197</td>\n    </tr>\n    <tr>\n      <th>19</th>\n      <td>sum_deb_f_oper_3m</td>\n      <td>0.634474</td>\n    </tr>\n    <tr>\n      <th>20</th>\n      <td>cnt_days_deb_e_oper_3m</td>\n      <td>0.608288</td>\n    </tr>\n    <tr>\n      <th>21</th>\n      <td>sum_cred_e_oper_3m</td>\n      <td>0.579044</td>\n    </tr>\n    <tr>\n      <th>22</th>\n      <td>sum_of_paym_2m</td>\n      <td>0.519644</td>\n    </tr>\n    <tr>\n      <th>23</th>\n      <td>sum_of_paym_6m</td>\n      <td>0.512302</td>\n    </tr>\n    <tr>\n      <th>24</th>\n      <td>sum_cred_e_oper_1m</td>\n      <td>0.470200</td>\n    </tr>\n    <tr>\n      <th>25</th>\n      <td>cnt_cred_e_oper_3m</td>\n      <td>0.468273</td>\n    </tr>\n    <tr>\n      <th>26</th>\n      <td>sum_deb_g_oper_3m</td>\n      <td>0.467893</td>\n    </tr>\n    <tr>\n      <th>27</th>\n      <td>cnt_days_cred_e_oper_3m</td>\n      <td>0.442133</td>\n    </tr>\n    <tr>\n      <th>28</th>\n      <td>sum_deb_e_oper_3m</td>\n      <td>0.438896</td>\n    </tr>\n    <tr>\n      <th>29</th>\n      <td>city_type</td>\n      <td>0.423884</td>\n    </tr>\n    <tr>\n      <th>30</th>\n      <td>sum_cred_h_oper_3m</td>\n      <td>0.410936</td>\n    </tr>\n    <tr>\n      <th>31</th>\n      <td>sum_deb_h_oper_3m</td>\n      <td>0.391121</td>\n    </tr>\n    <tr>\n      <th>32</th>\n      <td>cnt_deb_f_oper_3m</td>\n      <td>0.343556</td>\n    </tr>\n    <tr>\n      <th>33</th>\n      <td>cnt_deb_g_oper_3m</td>\n      <td>0.333381</td>\n    </tr>\n    <tr>\n      <th>34</th>\n      <td>sum_cred_g_oper_3m</td>\n      <td>0.313642</td>\n    </tr>\n    <tr>\n      <th>35</th>\n      <td>cnt_days_cred_e_oper_1m</td>\n      <td>0.307346</td>\n    </tr>\n    <tr>\n      <th>36</th>\n      <td>sum_c_oper_3m</td>\n      <td>0.306847</td>\n    </tr>\n    <tr>\n      <th>37</th>\n      <td>cnt_deb_e_oper_3m</td>\n      <td>0.306144</td>\n    </tr>\n    <tr>\n      <th>38</th>\n      <td>cnt_a_oper_3m</td>\n      <td>0.295271</td>\n    </tr>\n    <tr>\n      <th>39</th>\n      <td>sum_deb_d_oper_3m</td>\n      <td>0.286226</td>\n    </tr>\n    <tr>\n      <th>40</th>\n      <td>cnt_deb_h_oper_3m</td>\n      <td>0.277338</td>\n    </tr>\n    <tr>\n      <th>41</th>\n      <td>cnt_deb_e_oper_1m</td>\n      <td>0.274447</td>\n    </tr>\n    <tr>\n      <th>42</th>\n      <td>sum_deb_e_oper_1m</td>\n      <td>0.252396</td>\n    </tr>\n    <tr>\n      <th>43</th>\n      <td>cnt_days_cred_h_oper_3m</td>\n      <td>0.243658</td>\n    </tr>\n    <tr>\n      <th>44</th>\n      <td>cnt_cred_e_oper_1m</td>\n      <td>0.222671</td>\n    </tr>\n    <tr>\n      <th>45</th>\n      <td>cnt_deb_d_oper_3m</td>\n      <td>0.219335</td>\n    </tr>\n    <tr>\n      <th>46</th>\n      <td>cnt_days_deb_h_oper_1m</td>\n      <td>0.215657</td>\n    </tr>\n    <tr>\n      <th>47</th>\n      <td>sum_a_oper_3m</td>\n      <td>0.211001</td>\n    </tr>\n    <tr>\n      <th>48</th>\n      <td>cnt_days_deb_f_oper_3m</td>\n      <td>0.204820</td>\n    </tr>\n    <tr>\n      <th>49</th>\n      <td>cnt_cred_h_oper_3m</td>\n      <td>0.191619</td>\n    </tr>\n    <tr>\n      <th>50</th>\n      <td>cnt_c_oper_3m</td>\n      <td>0.186610</td>\n    </tr>\n    <tr>\n      <th>51</th>\n      <td>sum_deb_h_oper_1m</td>\n      <td>0.185115</td>\n    </tr>\n    <tr>\n      <th>52</th>\n      <td>sum_deb_d_oper_1m</td>\n      <td>0.184642</td>\n    </tr>\n    <tr>\n      <th>53</th>\n      <td>cnt_days_deb_g_oper_3m</td>\n      <td>0.163273</td>\n    </tr>\n    <tr>\n      <th>54</th>\n      <td>sum_deb_f_oper_1m</td>\n      <td>0.149303</td>\n    </tr>\n    <tr>\n      <th>55</th>\n      <td>cnt_c_oper_1m</td>\n      <td>0.115175</td>\n    </tr>\n    <tr>\n      <th>56</th>\n      <td>cnt_days_deb_e_oper_1m</td>\n      <td>0.108458</td>\n    </tr>\n    <tr>\n      <th>57</th>\n      <td>sum_deb_g_oper_1m</td>\n      <td>0.108124</td>\n    </tr>\n    <tr>\n      <th>58</th>\n      <td>cnt_deb_d_oper_1m</td>\n      <td>0.101642</td>\n    </tr>\n    <tr>\n      <th>59</th>\n      <td>cnt_cred_g_oper_3m</td>\n      <td>0.094833</td>\n    </tr>\n    <tr>\n      <th>60</th>\n      <td>sum_cred_h_oper_1m</td>\n      <td>0.087059</td>\n    </tr>\n    <tr>\n      <th>61</th>\n      <td>cnt_cred_d_oper_1m</td>\n      <td>0.085720</td>\n    </tr>\n    <tr>\n      <th>62</th>\n      <td>cnt_cred_h_oper_1m</td>\n      <td>0.077606</td>\n    </tr>\n    <tr>\n      <th>63</th>\n      <td>cnt_days_deb_h_oper_3m</td>\n      <td>0.071540</td>\n    </tr>\n    <tr>\n      <th>64</th>\n      <td>sum_cred_f_oper_3m</td>\n      <td>0.070153</td>\n    </tr>\n    <tr>\n      <th>65</th>\n      <td>cnt_deb_h_oper_1m</td>\n      <td>0.064176</td>\n    </tr>\n    <tr>\n      <th>66</th>\n      <td>cnt_deb_f_oper_1m</td>\n      <td>0.060552</td>\n    </tr>\n    <tr>\n      <th>67</th>\n      <td>cnt_b_oper_3m</td>\n      <td>0.058054</td>\n    </tr>\n    <tr>\n      <th>68</th>\n      <td>sum_cred_d_oper_3m</td>\n      <td>0.057723</td>\n    </tr>\n    <tr>\n      <th>69</th>\n      <td>cnt_deb_g_oper_1m</td>\n      <td>0.055569</td>\n    </tr>\n    <tr>\n      <th>70</th>\n      <td>cnt_cred_g_oper_1m</td>\n      <td>0.051470</td>\n    </tr>\n    <tr>\n      <th>71</th>\n      <td>cnt_a_oper_1m</td>\n      <td>0.051238</td>\n    </tr>\n    <tr>\n      <th>72</th>\n      <td>sum_a_oper_1m</td>\n      <td>0.050236</td>\n    </tr>\n    <tr>\n      <th>73</th>\n      <td>cnt_days_cred_h_oper_1m</td>\n      <td>0.050064</td>\n    </tr>\n    <tr>\n      <th>74</th>\n      <td>cnt_days_cred_g_oper_3m</td>\n      <td>0.043214</td>\n    </tr>\n    <tr>\n      <th>75</th>\n      <td>cnt_days_deb_g_oper_1m</td>\n      <td>0.039351</td>\n    </tr>\n    <tr>\n      <th>76</th>\n      <td>sum_b_oper_3m</td>\n      <td>0.032926</td>\n    </tr>\n    <tr>\n      <th>77</th>\n      <td>sum_cred_g_oper_1m</td>\n      <td>0.029848</td>\n    </tr>\n    <tr>\n      <th>78</th>\n      <td>sum_c_oper_1m</td>\n      <td>0.027367</td>\n    </tr>\n    <tr>\n      <th>79</th>\n      <td>cnt_b_oper_1m</td>\n      <td>0.027331</td>\n    </tr>\n    <tr>\n      <th>80</th>\n      <td>cnt_days_cred_f_oper_1m</td>\n      <td>0.023068</td>\n    </tr>\n    <tr>\n      <th>81</th>\n      <td>sum_b_oper_1m</td>\n      <td>0.020342</td>\n    </tr>\n    <tr>\n      <th>82</th>\n      <td>cnt_days_deb_f_oper_1m</td>\n      <td>0.012703</td>\n    </tr>\n    <tr>\n      <th>83</th>\n      <td>cnt_cred_d_oper_3m</td>\n      <td>0.011320</td>\n    </tr>\n    <tr>\n      <th>84</th>\n      <td>sum_cred_d_oper_1m</td>\n      <td>0.007972</td>\n    </tr>\n    <tr>\n      <th>85</th>\n      <td>cnt_cred_f_oper_3m</td>\n      <td>0.005845</td>\n    </tr>\n    <tr>\n      <th>86</th>\n      <td>sum_cred_f_oper_1m</td>\n      <td>0.004698</td>\n    </tr>\n    <tr>\n      <th>87</th>\n      <td>cnt_days_cred_f_oper_3m</td>\n      <td>0.002542</td>\n    </tr>\n    <tr>\n      <th>88</th>\n      <td>cnt_cred_f_oper_1m</td>\n      <td>0.000206</td>\n    </tr>\n    <tr>\n      <th>89</th>\n      <td>cnt_days_cred_g_oper_1m</td>\n      <td>0.000114</td>\n    </tr>\n  </tbody>\n</table>\n</div>"
          },
          "metadata": {}
        }
      ],
      "id": "q4l0uoKUffK-"
    },
    {
      "cell_type": "markdown",
      "source": [
        "### LGBM"
      ],
      "metadata": {
        "id": "Eh7W2ugiKUJn"
      },
      "id": "Eh7W2ugiKUJn"
    },
    {
      "cell_type": "markdown",
      "source": [
        "В качестве базовой модели возьмем LGBM обучим на всех признаках"
      ],
      "metadata": {
        "id": "nsiLHOP3tyLs"
      },
      "id": "nsiLHOP3tyLs"
    },
    {
      "cell_type": "code",
      "source": [
        "model = LGBMClassifier(verbosity=-1, random_state=42, n_jobs=-1)\n",
        "model.fit(x_train, y_train)"
      ],
      "metadata": {
        "colab": {
          "base_uri": "https://localhost:8080/",
          "height": 75
        },
        "execution": {
          "iopub.execute_input": "2024-02-14T23:09:55.557916Z",
          "iopub.status.busy": "2024-02-14T23:09:55.557642Z",
          "iopub.status.idle": "2024-02-14T23:09:55.562656Z",
          "shell.execute_reply": "2024-02-14T23:09:55.562029Z",
          "shell.execute_reply.started": "2024-02-14T23:09:55.557878Z"
        },
        "id": "6badd1b7-0155-4c85-859d-f075800ede6e",
        "outputId": "a40748fc-035c-495f-d12e-9b954f997828",
        "tags": []
      },
      "execution_count": null,
      "outputs": [
        {
          "output_type": "execute_result",
          "execution_count": 114,
          "data": {
            "text/plain": [
              "LGBMClassifier(n_jobs=-1, random_state=42, verbosity=-1)"
            ],
            "text/html": [
              "<style>#sk-container-id-2 {color: black;background-color: white;}#sk-container-id-2 pre{padding: 0;}#sk-container-id-2 div.sk-toggleable {background-color: white;}#sk-container-id-2 label.sk-toggleable__label {cursor: pointer;display: block;width: 100%;margin-bottom: 0;padding: 0.3em;box-sizing: border-box;text-align: center;}#sk-container-id-2 label.sk-toggleable__label-arrow:before {content: \"▸\";float: left;margin-right: 0.25em;color: #696969;}#sk-container-id-2 label.sk-toggleable__label-arrow:hover:before {color: black;}#sk-container-id-2 div.sk-estimator:hover label.sk-toggleable__label-arrow:before {color: black;}#sk-container-id-2 div.sk-toggleable__content {max-height: 0;max-width: 0;overflow: hidden;text-align: left;background-color: #f0f8ff;}#sk-container-id-2 div.sk-toggleable__content pre {margin: 0.2em;color: black;border-radius: 0.25em;background-color: #f0f8ff;}#sk-container-id-2 input.sk-toggleable__control:checked~div.sk-toggleable__content {max-height: 200px;max-width: 100%;overflow: auto;}#sk-container-id-2 input.sk-toggleable__control:checked~label.sk-toggleable__label-arrow:before {content: \"▾\";}#sk-container-id-2 div.sk-estimator input.sk-toggleable__control:checked~label.sk-toggleable__label {background-color: #d4ebff;}#sk-container-id-2 div.sk-label input.sk-toggleable__control:checked~label.sk-toggleable__label {background-color: #d4ebff;}#sk-container-id-2 input.sk-hidden--visually {border: 0;clip: rect(1px 1px 1px 1px);clip: rect(1px, 1px, 1px, 1px);height: 1px;margin: -1px;overflow: hidden;padding: 0;position: absolute;width: 1px;}#sk-container-id-2 div.sk-estimator {font-family: monospace;background-color: #f0f8ff;border: 1px dotted black;border-radius: 0.25em;box-sizing: border-box;margin-bottom: 0.5em;}#sk-container-id-2 div.sk-estimator:hover {background-color: #d4ebff;}#sk-container-id-2 div.sk-parallel-item::after {content: \"\";width: 100%;border-bottom: 1px solid gray;flex-grow: 1;}#sk-container-id-2 div.sk-label:hover label.sk-toggleable__label {background-color: #d4ebff;}#sk-container-id-2 div.sk-serial::before {content: \"\";position: absolute;border-left: 1px solid gray;box-sizing: border-box;top: 0;bottom: 0;left: 50%;z-index: 0;}#sk-container-id-2 div.sk-serial {display: flex;flex-direction: column;align-items: center;background-color: white;padding-right: 0.2em;padding-left: 0.2em;position: relative;}#sk-container-id-2 div.sk-item {position: relative;z-index: 1;}#sk-container-id-2 div.sk-parallel {display: flex;align-items: stretch;justify-content: center;background-color: white;position: relative;}#sk-container-id-2 div.sk-item::before, #sk-container-id-2 div.sk-parallel-item::before {content: \"\";position: absolute;border-left: 1px solid gray;box-sizing: border-box;top: 0;bottom: 0;left: 50%;z-index: -1;}#sk-container-id-2 div.sk-parallel-item {display: flex;flex-direction: column;z-index: 1;position: relative;background-color: white;}#sk-container-id-2 div.sk-parallel-item:first-child::after {align-self: flex-end;width: 50%;}#sk-container-id-2 div.sk-parallel-item:last-child::after {align-self: flex-start;width: 50%;}#sk-container-id-2 div.sk-parallel-item:only-child::after {width: 0;}#sk-container-id-2 div.sk-dashed-wrapped {border: 1px dashed gray;margin: 0 0.4em 0.5em 0.4em;box-sizing: border-box;padding-bottom: 0.4em;background-color: white;}#sk-container-id-2 div.sk-label label {font-family: monospace;font-weight: bold;display: inline-block;line-height: 1.2em;}#sk-container-id-2 div.sk-label-container {text-align: center;}#sk-container-id-2 div.sk-container {/* jupyter's `normalize.less` sets `[hidden] { display: none; }` but bootstrap.min.css set `[hidden] { display: none !important; }` so we also need the `!important` here to be able to override the default hidden behavior on the sphinx rendered scikit-learn.org. See: https://github.com/scikit-learn/scikit-learn/issues/21755 */display: inline-block !important;position: relative;}#sk-container-id-2 div.sk-text-repr-fallback {display: none;}</style><div id=\"sk-container-id-2\" class=\"sk-top-container\"><div class=\"sk-text-repr-fallback\"><pre>LGBMClassifier(n_jobs=-1, random_state=42, verbosity=-1)</pre><b>In a Jupyter environment, please rerun this cell to show the HTML representation or trust the notebook. <br />On GitHub, the HTML representation is unable to render, please try loading this page with nbviewer.org.</b></div><div class=\"sk-container\" hidden><div class=\"sk-item\"><div class=\"sk-estimator sk-toggleable\"><input class=\"sk-toggleable__control sk-hidden--visually\" id=\"sk-estimator-id-2\" type=\"checkbox\" checked><label for=\"sk-estimator-id-2\" class=\"sk-toggleable__label sk-toggleable__label-arrow\">LGBMClassifier</label><div class=\"sk-toggleable__content\"><pre>LGBMClassifier(n_jobs=-1, random_state=42, verbosity=-1)</pre></div></div></div></div></div>"
            ]
          },
          "metadata": {}
        }
      ],
      "id": "6badd1b7-0155-4c85-859d-f075800ede6e"
    },
    {
      "cell_type": "markdown",
      "source": [
        "### Метрики"
      ],
      "metadata": {
        "id": "En2Y6I_4KWO5"
      },
      "id": "En2Y6I_4KWO5"
    },
    {
      "cell_type": "markdown",
      "source": [
        "Зададим функцию для взвешенной метрики roc auc"
      ],
      "metadata": {
        "id": "in4jAC8SIbIk"
      },
      "id": "in4jAC8SIbIk"
    },
    {
      "cell_type": "code",
      "source": [
        "def weighted_roc_auc(y_true, y_pred, labels, weights_dict):\n",
        "    unnorm_weights = np.array([weights_dict[label] for label in labels])\n",
        "    weights = unnorm_weights / unnorm_weights.sum()\n",
        "    classes_roc_auc = roc_auc_score(y_true, y_pred, labels=labels,\n",
        "                                    multi_class=\"ovr\", average=None)\n",
        "    return sum(weights * classes_roc_auc)"
      ],
      "metadata": {
        "id": "WxsjOsocI0Kq",
        "execution": {
          "iopub.status.busy": "2024-04-10T00:34:03.594346Z",
          "iopub.execute_input": "2024-04-10T00:34:03.594716Z",
          "iopub.status.idle": "2024-04-10T00:34:03.600305Z",
          "shell.execute_reply.started": "2024-04-10T00:34:03.594687Z",
          "shell.execute_reply": "2024-04-10T00:34:03.599340Z"
        },
        "trusted": true
      },
      "execution_count": null,
      "outputs": [],
      "id": "WxsjOsocI0Kq"
    },
    {
      "cell_type": "code",
      "source": [
        "cluster_weights = pd.read_excel(\"/kaggle/input/alfa-hack-dataset/cluster_weights.xlsx\").set_index(\"cluster\")\n",
        "weights_dict = cluster_weights[\"unnorm_weight\"].to_dict()"
      ],
      "metadata": {
        "id": "dNp4RlkbJmqE",
        "execution": {
          "iopub.status.busy": "2024-04-10T00:34:03.736381Z",
          "iopub.execute_input": "2024-04-10T00:34:03.736652Z",
          "iopub.status.idle": "2024-04-10T00:34:03.761188Z",
          "shell.execute_reply.started": "2024-04-10T00:34:03.736623Z",
          "shell.execute_reply": "2024-04-10T00:34:03.760529Z"
        },
        "trusted": true
      },
      "execution_count": null,
      "outputs": [],
      "id": "dNp4RlkbJmqE"
    },
    {
      "cell_type": "markdown",
      "source": [
        "Проверка работы модели"
      ],
      "metadata": {
        "id": "882N_MniJeLl"
      },
      "id": "882N_MniJeLl"
    },
    {
      "cell_type": "code",
      "source": [
        "y_pred_proba = model.predict_proba(x_val)\n",
        "y_pred_proba.shape"
      ],
      "metadata": {
        "colab": {
          "base_uri": "https://localhost:8080/"
        },
        "id": "BAGzrwjowH8q",
        "outputId": "2afd1d84-392e-4822-a9cb-597ddcd46764",
        "execution": {
          "iopub.status.busy": "2024-04-10T00:34:05.822135Z",
          "iopub.execute_input": "2024-04-10T00:34:05.822503Z",
          "iopub.status.idle": "2024-04-10T00:34:07.876950Z",
          "shell.execute_reply.started": "2024-04-10T00:34:05.822475Z",
          "shell.execute_reply": "2024-04-10T00:34:07.875948Z"
        },
        "trusted": true
      },
      "execution_count": null,
      "outputs": [
        {
          "execution_count": 131,
          "output_type": "execute_result",
          "data": {
            "text/plain": "(120000, 17)"
          },
          "metadata": {}
        }
      ],
      "id": "BAGzrwjowH8q"
    },
    {
      "cell_type": "code",
      "source": [
        "weighted_roc_auc(y_val, y_pred_proba, model.classes_, weights_dict)"
      ],
      "metadata": {
        "colab": {
          "base_uri": "https://localhost:8080/"
        },
        "id": "_-grylzULhLv",
        "outputId": "c908c888-a7d6-4bdf-b730-6b9be9de55ab",
        "execution": {
          "iopub.status.busy": "2024-04-10T00:34:07.878419Z",
          "iopub.execute_input": "2024-04-10T00:34:07.878711Z",
          "iopub.status.idle": "2024-04-10T00:34:08.919449Z",
          "shell.execute_reply.started": "2024-04-10T00:34:07.878686Z",
          "shell.execute_reply": "2024-04-10T00:34:08.918558Z"
        },
        "trusted": true
      },
      "execution_count": null,
      "outputs": [
        {
          "execution_count": 132,
          "output_type": "execute_result",
          "data": {
            "text/plain": "0.9696687374457332"
          },
          "metadata": {}
        }
      ],
      "id": "_-grylzULhLv"
    },
    {
      "cell_type": "markdown",
      "source": [
        "## Прогноз на тестовой выборке"
      ],
      "metadata": {
        "id": "cfLFjyYHNTE4"
      },
      "id": "cfLFjyYHNTE4"
    },
    {
      "cell_type": "code",
      "source": [
        "test_df.pivot(index=\"id\", columns=\"date\", values=\"start_cluster\").head(3)"
      ],
      "metadata": {
        "colab": {
          "base_uri": "https://localhost:8080/",
          "height": 175
        },
        "id": "pUpqu4ueNdTO",
        "outputId": "451dc8d1-7c35-4259-d843-81a56beccb0c",
        "execution": {
          "iopub.status.busy": "2024-04-10T00:34:15.392366Z",
          "iopub.execute_input": "2024-04-10T00:34:15.392724Z",
          "iopub.status.idle": "2024-04-10T00:34:15.466204Z",
          "shell.execute_reply.started": "2024-04-10T00:34:15.392696Z",
          "shell.execute_reply": "2024-04-10T00:34:15.465246Z"
        },
        "trusted": true
      },
      "execution_count": null,
      "outputs": [
        {
          "execution_count": 133,
          "output_type": "execute_result",
          "data": {
            "text/plain": "date    month_4  month_5  month_6\nid                               \n200000     15.0     15.0     15.0\n200001     15.0     15.0     15.0\n200002      0.0      0.0      0.0",
            "text/html": "<div>\n<style scoped>\n    .dataframe tbody tr th:only-of-type {\n        vertical-align: middle;\n    }\n\n    .dataframe tbody tr th {\n        vertical-align: top;\n    }\n\n    .dataframe thead th {\n        text-align: right;\n    }\n</style>\n<table border=\"1\" class=\"dataframe\">\n  <thead>\n    <tr style=\"text-align: right;\">\n      <th>date</th>\n      <th>month_4</th>\n      <th>month_5</th>\n      <th>month_6</th>\n    </tr>\n    <tr>\n      <th>id</th>\n      <th></th>\n      <th></th>\n      <th></th>\n    </tr>\n  </thead>\n  <tbody>\n    <tr>\n      <th>200000</th>\n      <td>15.0</td>\n      <td>15.0</td>\n      <td>15.0</td>\n    </tr>\n    <tr>\n      <th>200001</th>\n      <td>15.0</td>\n      <td>15.0</td>\n      <td>15.0</td>\n    </tr>\n    <tr>\n      <th>200002</th>\n      <td>0.0</td>\n      <td>0.0</td>\n      <td>0.0</td>\n    </tr>\n  </tbody>\n</table>\n</div>"
          },
          "metadata": {}
        }
      ],
      "id": "pUpqu4ueNdTO"
    },
    {
      "cell_type": "markdown",
      "source": [
        "Для того, чтобы сделать прогноз на тестовой выборке, нужно заполнить стартовый кластер. </br>\n",
        "В качестве базового подхода заполним все стартовые кластеры, самым популярным кластером."
      ],
      "metadata": {
        "id": "D7hcKFpa042B"
      },
      "id": "D7hcKFpa042B"
    },
    {
      "cell_type": "code",
      "source": [
        "test_df['start_cluster'].value_counts()"
      ],
      "metadata": {
        "colab": {
          "base_uri": "https://localhost:8080/"
        },
        "id": "pu_xADNB7-BN",
        "outputId": "358b40e6-cf86-4be4-dfc1-eb7de98c13a3",
        "execution": {
          "iopub.status.busy": "2024-04-10T00:34:16.306973Z",
          "iopub.execute_input": "2024-04-10T00:34:16.307355Z",
          "iopub.status.idle": "2024-04-10T00:34:16.317201Z",
          "shell.execute_reply.started": "2024-04-10T00:34:16.307323Z",
          "shell.execute_reply": "2024-04-10T00:34:16.316342Z"
        },
        "trusted": true
      },
      "execution_count": null,
      "outputs": [
        {
          "execution_count": 134,
          "output_type": "execute_result",
          "data": {
            "text/plain": "start_cluster\n15    170103\n1      51842\n9      19619\n0      15694\n3      15209\n2       5346\n4       4224\n8       2463\n10      2049\n14      1307\n12       735\n5        612\n11       365\n6        345\n7        126\n16        72\n13         9\nName: count, dtype: int64"
          },
          "metadata": {}
        }
      ],
      "id": "pu_xADNB7-BN"
    },
    {
      "cell_type": "code",
      "source": [
        "test_df[\"start_cluster\"] = train_df[\"start_cluster\"].mode()[0]\n",
        "# test_df[\"start_cluster\"] = test_df[\"start_cluster\"].astype(\"category\")"
      ],
      "metadata": {
        "id": "FbOyX_FJN8k6"
      },
      "execution_count": null,
      "outputs": [],
      "id": "FbOyX_FJN8k6"
    },
    {
      "cell_type": "code",
      "source": [
        "sample_submission_df = pd.read_csv(\"/kaggle/input/sample-submission/sample_submission.csv\")"
      ],
      "metadata": {
        "id": "efc8b64a-86db-4564-af7b-be649612df82",
        "tags": [],
        "execution": {
          "iopub.status.busy": "2024-04-10T00:34:19.199432Z",
          "iopub.execute_input": "2024-04-10T00:34:19.200099Z",
          "iopub.status.idle": "2024-04-10T00:34:19.380361Z",
          "shell.execute_reply.started": "2024-04-10T00:34:19.200067Z",
          "shell.execute_reply": "2024-04-10T00:34:19.379530Z"
        },
        "trusted": true
      },
      "execution_count": null,
      "outputs": [],
      "id": "efc8b64a-86db-4564-af7b-be649612df82"
    },
    {
      "cell_type": "code",
      "source": [
        "sample_submission_df.shape"
      ],
      "metadata": {
        "colab": {
          "base_uri": "https://localhost:8080/"
        },
        "id": "pnVPYVJNUi1f",
        "outputId": "f0ef2b4a-d0b9-4473-a30b-d8e5bd80cb64",
        "execution": {
          "iopub.status.busy": "2024-04-10T00:34:19.487740Z",
          "iopub.execute_input": "2024-04-10T00:34:19.488486Z",
          "iopub.status.idle": "2024-04-10T00:34:19.494232Z",
          "shell.execute_reply.started": "2024-04-10T00:34:19.488458Z",
          "shell.execute_reply": "2024-04-10T00:34:19.493359Z"
        },
        "trusted": true
      },
      "execution_count": null,
      "outputs": [
        {
          "execution_count": 136,
          "output_type": "execute_result",
          "data": {
            "text/plain": "(100000, 18)"
          },
          "metadata": {}
        }
      ],
      "id": "pnVPYVJNUi1f"
    },
    {
      "cell_type": "code",
      "source": [
        "sample_submission_df.head()"
      ],
      "metadata": {
        "colab": {
          "base_uri": "https://localhost:8080/",
          "height": 224
        },
        "id": "89face90-d187-4885-a695-12fbf7d87541",
        "outputId": "f605acb1-66d3-44aa-a7b6-2a7ee179fcad",
        "tags": [],
        "execution": {
          "iopub.status.busy": "2024-04-10T00:34:19.780093Z",
          "iopub.execute_input": "2024-04-10T00:34:19.780520Z",
          "iopub.status.idle": "2024-04-10T00:34:19.803582Z",
          "shell.execute_reply.started": "2024-04-10T00:34:19.780490Z",
          "shell.execute_reply": "2024-04-10T00:34:19.802714Z"
        },
        "trusted": true
      },
      "execution_count": null,
      "outputs": [
        {
          "execution_count": 137,
          "output_type": "execute_result",
          "data": {
            "text/plain": "       id  {other}    {}  {α, β}  {α, γ}  {α, δ}  {α, ε, η}  {α, ε, θ}  \\\n0  200000      0.2  0.05    0.05    0.05    0.05       0.05       0.05   \n1  200001      0.2  0.05    0.05    0.05    0.05       0.05       0.05   \n2  200002      0.2  0.05    0.05    0.05    0.05       0.05       0.05   \n3  200003      0.2  0.05    0.05    0.05    0.05       0.05       0.05   \n4  200004      0.2  0.05    0.05    0.05    0.05       0.05       0.05   \n\n   {α, ε, ψ}  {α, ε}  {α, η}  {α, θ}  {α, λ}  {α, μ}  {α, π}  {α, ψ}   {α}  \\\n0       0.05    0.05    0.05    0.05    0.05    0.05    0.05    0.05  0.05   \n1       0.05    0.05    0.05    0.05    0.05    0.05    0.05    0.05  0.05   \n2       0.05    0.05    0.05    0.05    0.05    0.05    0.05    0.05  0.05   \n3       0.05    0.05    0.05    0.05    0.05    0.05    0.05    0.05  0.05   \n4       0.05    0.05    0.05    0.05    0.05    0.05    0.05    0.05  0.05   \n\n    {λ}  \n0  0.05  \n1  0.05  \n2  0.05  \n3  0.05  \n4  0.05  ",
            "text/html": "<div>\n<style scoped>\n    .dataframe tbody tr th:only-of-type {\n        vertical-align: middle;\n    }\n\n    .dataframe tbody tr th {\n        vertical-align: top;\n    }\n\n    .dataframe thead th {\n        text-align: right;\n    }\n</style>\n<table border=\"1\" class=\"dataframe\">\n  <thead>\n    <tr style=\"text-align: right;\">\n      <th></th>\n      <th>id</th>\n      <th>{other}</th>\n      <th>{}</th>\n      <th>{α, β}</th>\n      <th>{α, γ}</th>\n      <th>{α, δ}</th>\n      <th>{α, ε, η}</th>\n      <th>{α, ε, θ}</th>\n      <th>{α, ε, ψ}</th>\n      <th>{α, ε}</th>\n      <th>{α, η}</th>\n      <th>{α, θ}</th>\n      <th>{α, λ}</th>\n      <th>{α, μ}</th>\n      <th>{α, π}</th>\n      <th>{α, ψ}</th>\n      <th>{α}</th>\n      <th>{λ}</th>\n    </tr>\n  </thead>\n  <tbody>\n    <tr>\n      <th>0</th>\n      <td>200000</td>\n      <td>0.2</td>\n      <td>0.05</td>\n      <td>0.05</td>\n      <td>0.05</td>\n      <td>0.05</td>\n      <td>0.05</td>\n      <td>0.05</td>\n      <td>0.05</td>\n      <td>0.05</td>\n      <td>0.05</td>\n      <td>0.05</td>\n      <td>0.05</td>\n      <td>0.05</td>\n      <td>0.05</td>\n      <td>0.05</td>\n      <td>0.05</td>\n      <td>0.05</td>\n    </tr>\n    <tr>\n      <th>1</th>\n      <td>200001</td>\n      <td>0.2</td>\n      <td>0.05</td>\n      <td>0.05</td>\n      <td>0.05</td>\n      <td>0.05</td>\n      <td>0.05</td>\n      <td>0.05</td>\n      <td>0.05</td>\n      <td>0.05</td>\n      <td>0.05</td>\n      <td>0.05</td>\n      <td>0.05</td>\n      <td>0.05</td>\n      <td>0.05</td>\n      <td>0.05</td>\n      <td>0.05</td>\n      <td>0.05</td>\n    </tr>\n    <tr>\n      <th>2</th>\n      <td>200002</td>\n      <td>0.2</td>\n      <td>0.05</td>\n      <td>0.05</td>\n      <td>0.05</td>\n      <td>0.05</td>\n      <td>0.05</td>\n      <td>0.05</td>\n      <td>0.05</td>\n      <td>0.05</td>\n      <td>0.05</td>\n      <td>0.05</td>\n      <td>0.05</td>\n      <td>0.05</td>\n      <td>0.05</td>\n      <td>0.05</td>\n      <td>0.05</td>\n      <td>0.05</td>\n    </tr>\n    <tr>\n      <th>3</th>\n      <td>200003</td>\n      <td>0.2</td>\n      <td>0.05</td>\n      <td>0.05</td>\n      <td>0.05</td>\n      <td>0.05</td>\n      <td>0.05</td>\n      <td>0.05</td>\n      <td>0.05</td>\n      <td>0.05</td>\n      <td>0.05</td>\n      <td>0.05</td>\n      <td>0.05</td>\n      <td>0.05</td>\n      <td>0.05</td>\n      <td>0.05</td>\n      <td>0.05</td>\n      <td>0.05</td>\n    </tr>\n    <tr>\n      <th>4</th>\n      <td>200004</td>\n      <td>0.2</td>\n      <td>0.05</td>\n      <td>0.05</td>\n      <td>0.05</td>\n      <td>0.05</td>\n      <td>0.05</td>\n      <td>0.05</td>\n      <td>0.05</td>\n      <td>0.05</td>\n      <td>0.05</td>\n      <td>0.05</td>\n      <td>0.05</td>\n      <td>0.05</td>\n      <td>0.05</td>\n      <td>0.05</td>\n      <td>0.05</td>\n      <td>0.05</td>\n    </tr>\n  </tbody>\n</table>\n</div>"
          },
          "metadata": {}
        }
      ],
      "id": "89face90-d187-4885-a695-12fbf7d87541"
    },
    {
      "cell_type": "markdown",
      "source": [
        "Для тестовой выборки будем использовать только последний месяц"
      ],
      "metadata": {
        "id": "1qVgADkI1MnS"
      },
      "id": "1qVgADkI1MnS"
    },
    {
      "cell_type": "code",
      "source": [
        "last_m_test_df = test_df[test_df[\"date\"] == \"month_6\"]\n",
        "last_m_test_df = last_m_test_df.drop([\"id\", \"date\"], axis=1)"
      ],
      "metadata": {
        "id": "9bf790af-ed40-40bd-8cd2-196246f8856f",
        "tags": [],
        "execution": {
          "iopub.status.busy": "2024-04-10T00:34:22.746981Z",
          "iopub.execute_input": "2024-04-10T00:34:22.747877Z",
          "iopub.status.idle": "2024-04-10T00:34:22.871608Z",
          "shell.execute_reply.started": "2024-04-10T00:34:22.747844Z",
          "shell.execute_reply": "2024-04-10T00:34:22.870762Z"
        },
        "trusted": true
      },
      "execution_count": null,
      "outputs": [],
      "id": "9bf790af-ed40-40bd-8cd2-196246f8856f"
    },
    {
      "cell_type": "code",
      "source": [
        "cat_features_test = [4, 5, 6, 7, 10, 11, 16, 17, 89]"
      ],
      "metadata": {
        "execution": {
          "iopub.status.busy": "2024-04-09T23:15:43.831061Z",
          "iopub.execute_input": "2024-04-09T23:15:43.831433Z",
          "iopub.status.idle": "2024-04-09T23:15:43.837919Z",
          "shell.execute_reply.started": "2024-04-09T23:15:43.831403Z",
          "shell.execute_reply": "2024-04-09T23:15:43.837144Z"
        },
        "trusted": true,
        "id": "pfed_ag7ffK_"
      },
      "execution_count": null,
      "outputs": [],
      "id": "pfed_ag7ffK_"
    },
    {
      "cell_type": "code",
      "source": [
        "pool2 = Pool(data=last_m_test_df, cat_features=np.array(cat_names))"
      ],
      "metadata": {
        "execution": {
          "iopub.status.busy": "2024-04-10T00:03:57.154466Z",
          "iopub.execute_input": "2024-04-10T00:03:57.155329Z",
          "iopub.status.idle": "2024-04-10T00:03:57.381252Z",
          "shell.execute_reply.started": "2024-04-10T00:03:57.155296Z",
          "shell.execute_reply": "2024-04-10T00:03:57.380496Z"
        },
        "trusted": true,
        "id": "QAW52EYxffK_"
      },
      "execution_count": null,
      "outputs": [],
      "id": "QAW52EYxffK_"
    },
    {
      "cell_type": "code",
      "source": [
        "test_pred_proba = model.predict_proba(last_m_test_df) # last_m_test_df\n",
        "test_pred_proba_df = pd.DataFrame(test_pred_proba, columns=model.classes_)\n",
        "sorted_classes = sorted(test_pred_proba_df.columns.to_list())\n",
        "test_pred_proba_df = test_pred_proba_df[sorted_classes]"
      ],
      "metadata": {
        "id": "5585fd22-3b4f-44f5-a673-777fec4fedc5",
        "tags": [],
        "execution": {
          "iopub.status.busy": "2024-04-10T00:34:24.829421Z",
          "iopub.execute_input": "2024-04-10T00:34:24.829796Z",
          "iopub.status.idle": "2024-04-10T00:34:26.541586Z",
          "shell.execute_reply.started": "2024-04-10T00:34:24.829767Z",
          "shell.execute_reply": "2024-04-10T00:34:26.540569Z"
        },
        "trusted": true
      },
      "execution_count": null,
      "outputs": [],
      "id": "5585fd22-3b4f-44f5-a673-777fec4fedc5"
    },
    {
      "cell_type": "code",
      "source": [
        "test_pred_proba_df.shape"
      ],
      "metadata": {
        "colab": {
          "base_uri": "https://localhost:8080/"
        },
        "id": "xUa5e3c4UcSe",
        "outputId": "260b99d3-464d-4031-a52d-e9bf706707d8",
        "execution": {
          "iopub.status.busy": "2024-04-10T00:34:27.840233Z",
          "iopub.execute_input": "2024-04-10T00:34:27.841115Z",
          "iopub.status.idle": "2024-04-10T00:34:27.846673Z",
          "shell.execute_reply.started": "2024-04-10T00:34:27.841086Z",
          "shell.execute_reply": "2024-04-10T00:34:27.845762Z"
        },
        "trusted": true
      },
      "execution_count": null,
      "outputs": [
        {
          "execution_count": 140,
          "output_type": "execute_result",
          "data": {
            "text/plain": "(100000, 17)"
          },
          "metadata": {}
        }
      ],
      "id": "xUa5e3c4UcSe"
    },
    {
      "cell_type": "code",
      "source": [
        "test_pred_proba_df.head(2)"
      ],
      "metadata": {
        "colab": {
          "base_uri": "https://localhost:8080/",
          "height": 149
        },
        "id": "QqDRm_FB1oWF",
        "outputId": "9f0a3f56-a810-47d5-984e-6092ef08dda3",
        "execution": {
          "iopub.status.busy": "2024-04-10T00:34:29.997214Z",
          "iopub.execute_input": "2024-04-10T00:34:29.997591Z",
          "iopub.status.idle": "2024-04-10T00:34:30.015904Z",
          "shell.execute_reply.started": "2024-04-10T00:34:29.997562Z",
          "shell.execute_reply": "2024-04-10T00:34:30.015045Z"
        },
        "trusted": true
      },
      "execution_count": null,
      "outputs": [
        {
          "execution_count": 141,
          "output_type": "execute_result",
          "data": {
            "text/plain": "    {other}        {}    {α, β}    {α, γ}    {α, δ}  {α, ε, η}  {α, ε, θ}  \\\n0  0.002113  0.005858  0.011363  0.012802  0.002135   0.000034   0.000065   \n1  0.001005  0.473920  0.000081  0.000334  0.000061   0.000014   0.000011   \n\n      {α, ε, ψ}    {α, ε}    {α, η}    {α, θ}    {α, λ}    {α, μ}  \\\n0  4.380761e-05  0.004219  0.003299  0.003726  0.000108  0.000329   \n1  7.364428e-07  0.000076  0.003938  0.000025  0.000012  0.000073   \n\n         {α, π}    {α, ψ}       {α}       {λ}  \n0  1.442717e-05  0.000606  0.953270  0.000016  \n1  2.200663e-07  0.000019  0.520429  0.000002  ",
            "text/html": "<div>\n<style scoped>\n    .dataframe tbody tr th:only-of-type {\n        vertical-align: middle;\n    }\n\n    .dataframe tbody tr th {\n        vertical-align: top;\n    }\n\n    .dataframe thead th {\n        text-align: right;\n    }\n</style>\n<table border=\"1\" class=\"dataframe\">\n  <thead>\n    <tr style=\"text-align: right;\">\n      <th></th>\n      <th>{other}</th>\n      <th>{}</th>\n      <th>{α, β}</th>\n      <th>{α, γ}</th>\n      <th>{α, δ}</th>\n      <th>{α, ε, η}</th>\n      <th>{α, ε, θ}</th>\n      <th>{α, ε, ψ}</th>\n      <th>{α, ε}</th>\n      <th>{α, η}</th>\n      <th>{α, θ}</th>\n      <th>{α, λ}</th>\n      <th>{α, μ}</th>\n      <th>{α, π}</th>\n      <th>{α, ψ}</th>\n      <th>{α}</th>\n      <th>{λ}</th>\n    </tr>\n  </thead>\n  <tbody>\n    <tr>\n      <th>0</th>\n      <td>0.002113</td>\n      <td>0.005858</td>\n      <td>0.011363</td>\n      <td>0.012802</td>\n      <td>0.002135</td>\n      <td>0.000034</td>\n      <td>0.000065</td>\n      <td>4.380761e-05</td>\n      <td>0.004219</td>\n      <td>0.003299</td>\n      <td>0.003726</td>\n      <td>0.000108</td>\n      <td>0.000329</td>\n      <td>1.442717e-05</td>\n      <td>0.000606</td>\n      <td>0.953270</td>\n      <td>0.000016</td>\n    </tr>\n    <tr>\n      <th>1</th>\n      <td>0.001005</td>\n      <td>0.473920</td>\n      <td>0.000081</td>\n      <td>0.000334</td>\n      <td>0.000061</td>\n      <td>0.000014</td>\n      <td>0.000011</td>\n      <td>7.364428e-07</td>\n      <td>0.000076</td>\n      <td>0.003938</td>\n      <td>0.000025</td>\n      <td>0.000012</td>\n      <td>0.000073</td>\n      <td>2.200663e-07</td>\n      <td>0.000019</td>\n      <td>0.520429</td>\n      <td>0.000002</td>\n    </tr>\n  </tbody>\n</table>\n</div>"
          },
          "metadata": {}
        }
      ],
      "id": "QqDRm_FB1oWF"
    },
    {
      "cell_type": "code",
      "source": [
        "sample_submission_df[sorted_classes] = test_pred_proba_df\n",
        "sample_submission_df.to_csv(\"catboost_submission_7.csv\", index=False)"
      ],
      "metadata": {
        "id": "a6fbe390-7b56-45a9-8e5b-ab43f9bb7dfc",
        "tags": [],
        "execution": {
          "iopub.status.busy": "2024-04-10T00:34:47.762653Z",
          "iopub.execute_input": "2024-04-10T00:34:47.763274Z",
          "iopub.status.idle": "2024-04-10T00:34:51.421741Z",
          "shell.execute_reply.started": "2024-04-10T00:34:47.763244Z",
          "shell.execute_reply": "2024-04-10T00:34:51.420700Z"
        },
        "trusted": true
      },
      "execution_count": null,
      "outputs": [],
      "id": "a6fbe390-7b56-45a9-8e5b-ab43f9bb7dfc"
    },
    {
      "cell_type": "code",
      "source": [
        "sample_submission_df"
      ],
      "metadata": {
        "colab": {
          "base_uri": "https://localhost:8080/",
          "height": 461
        },
        "id": "ME5l9wqv4C1x",
        "outputId": "60d4412c-851a-4123-9d60-1617e7737aed",
        "execution": {
          "iopub.status.busy": "2024-04-10T00:34:51.423203Z",
          "iopub.execute_input": "2024-04-10T00:34:51.423506Z",
          "iopub.status.idle": "2024-04-10T00:34:51.448561Z",
          "shell.execute_reply.started": "2024-04-10T00:34:51.423482Z",
          "shell.execute_reply": "2024-04-10T00:34:51.447629Z"
        },
        "trusted": true
      },
      "execution_count": null,
      "outputs": [
        {
          "execution_count": 145,
          "output_type": "execute_result",
          "data": {
            "text/plain": "           id   {other}        {}    {α, β}    {α, γ}    {α, δ}  {α, ε, η}  \\\n0      200000  0.002113  0.005858  0.011363  0.012802  0.002135   0.000034   \n1      200001  0.001005  0.473920  0.000081  0.000334  0.000061   0.000014   \n2      200002  0.754202  0.000572  0.000875  0.113610  0.002303   0.000637   \n3      200003  0.013289  0.614117  0.000110  0.000168  0.000063   0.000120   \n4      200004  0.184970  0.112109  0.009844  0.043541  0.000868   0.001207   \n...       ...       ...       ...       ...       ...       ...        ...   \n99995  299995  0.007390  0.201525  0.000602  0.000949  0.000314   0.000004   \n99996  299996  0.035382  0.028899  0.006962  0.066568  0.003230   0.000008   \n99997  299997  0.030457  0.060531  0.006176  0.024441  0.001240   0.000438   \n99998  299998  0.032706  0.162959  0.002091  0.024371  0.000502   0.000045   \n99999  299999  0.026808  0.043837  0.002614  0.059041  0.012695   0.000045   \n\n       {α, ε, θ}     {α, ε, ψ}    {α, ε}    {α, η}    {α, θ}    {α, λ}  \\\n0       0.000065  4.380761e-05  0.004219  0.003299  0.003726  0.000108   \n1       0.000011  7.364428e-07  0.000076  0.003938  0.000025  0.000012   \n2       0.000414  4.228547e-04  0.062324  0.003964  0.002523  0.000624   \n3       0.000010  3.700854e-06  0.000078  0.022847  0.000555  0.000005   \n4       0.000535  6.782468e-05  0.003513  0.181516  0.005141  0.000098   \n...          ...           ...       ...       ...       ...       ...   \n99995   0.000266  1.094715e-06  0.000976  0.000049  0.000164  0.000069   \n99996   0.000051  2.671587e-05  0.002364  0.001491  0.004374  0.002854   \n99997   0.000118  2.122848e-05  0.006115  0.000579  0.001066  0.000032   \n99998   0.000097  4.593626e-05  0.003704  0.008968  0.002619  0.000277   \n99999   0.000198  1.572881e-04  0.001521  0.005142  0.011624  0.002969   \n\n         {α, μ}        {α, π}    {α, ψ}       {α}           {λ}  \n0      0.000329  1.442717e-05  0.000606  0.953270  1.568262e-05  \n1      0.000073  2.200663e-07  0.000019  0.520429  2.182816e-06  \n2      0.000264  3.027303e-05  0.008214  0.048975  4.477714e-05  \n3      0.000104  6.071929e-07  0.000019  0.348509  7.574914e-07  \n4      0.004253  2.173743e-05  0.000870  0.451399  4.663891e-05  \n...         ...           ...       ...       ...           ...  \n99995  0.000022  3.889440e-06  0.000035  0.787620  9.697313e-06  \n99996  0.000353  2.708185e-06  0.000525  0.846883  2.621933e-05  \n99997  0.000125  3.280689e-06  0.007324  0.861329  4.945855e-06  \n99998  0.000373  1.968168e-05  0.004693  0.756467  6.225682e-05  \n99999  0.000769  6.680152e-06  0.000821  0.831719  3.404509e-05  \n\n[100000 rows x 18 columns]",
            "text/html": "<div>\n<style scoped>\n    .dataframe tbody tr th:only-of-type {\n        vertical-align: middle;\n    }\n\n    .dataframe tbody tr th {\n        vertical-align: top;\n    }\n\n    .dataframe thead th {\n        text-align: right;\n    }\n</style>\n<table border=\"1\" class=\"dataframe\">\n  <thead>\n    <tr style=\"text-align: right;\">\n      <th></th>\n      <th>id</th>\n      <th>{other}</th>\n      <th>{}</th>\n      <th>{α, β}</th>\n      <th>{α, γ}</th>\n      <th>{α, δ}</th>\n      <th>{α, ε, η}</th>\n      <th>{α, ε, θ}</th>\n      <th>{α, ε, ψ}</th>\n      <th>{α, ε}</th>\n      <th>{α, η}</th>\n      <th>{α, θ}</th>\n      <th>{α, λ}</th>\n      <th>{α, μ}</th>\n      <th>{α, π}</th>\n      <th>{α, ψ}</th>\n      <th>{α}</th>\n      <th>{λ}</th>\n    </tr>\n  </thead>\n  <tbody>\n    <tr>\n      <th>0</th>\n      <td>200000</td>\n      <td>0.002113</td>\n      <td>0.005858</td>\n      <td>0.011363</td>\n      <td>0.012802</td>\n      <td>0.002135</td>\n      <td>0.000034</td>\n      <td>0.000065</td>\n      <td>4.380761e-05</td>\n      <td>0.004219</td>\n      <td>0.003299</td>\n      <td>0.003726</td>\n      <td>0.000108</td>\n      <td>0.000329</td>\n      <td>1.442717e-05</td>\n      <td>0.000606</td>\n      <td>0.953270</td>\n      <td>1.568262e-05</td>\n    </tr>\n    <tr>\n      <th>1</th>\n      <td>200001</td>\n      <td>0.001005</td>\n      <td>0.473920</td>\n      <td>0.000081</td>\n      <td>0.000334</td>\n      <td>0.000061</td>\n      <td>0.000014</td>\n      <td>0.000011</td>\n      <td>7.364428e-07</td>\n      <td>0.000076</td>\n      <td>0.003938</td>\n      <td>0.000025</td>\n      <td>0.000012</td>\n      <td>0.000073</td>\n      <td>2.200663e-07</td>\n      <td>0.000019</td>\n      <td>0.520429</td>\n      <td>2.182816e-06</td>\n    </tr>\n    <tr>\n      <th>2</th>\n      <td>200002</td>\n      <td>0.754202</td>\n      <td>0.000572</td>\n      <td>0.000875</td>\n      <td>0.113610</td>\n      <td>0.002303</td>\n      <td>0.000637</td>\n      <td>0.000414</td>\n      <td>4.228547e-04</td>\n      <td>0.062324</td>\n      <td>0.003964</td>\n      <td>0.002523</td>\n      <td>0.000624</td>\n      <td>0.000264</td>\n      <td>3.027303e-05</td>\n      <td>0.008214</td>\n      <td>0.048975</td>\n      <td>4.477714e-05</td>\n    </tr>\n    <tr>\n      <th>3</th>\n      <td>200003</td>\n      <td>0.013289</td>\n      <td>0.614117</td>\n      <td>0.000110</td>\n      <td>0.000168</td>\n      <td>0.000063</td>\n      <td>0.000120</td>\n      <td>0.000010</td>\n      <td>3.700854e-06</td>\n      <td>0.000078</td>\n      <td>0.022847</td>\n      <td>0.000555</td>\n      <td>0.000005</td>\n      <td>0.000104</td>\n      <td>6.071929e-07</td>\n      <td>0.000019</td>\n      <td>0.348509</td>\n      <td>7.574914e-07</td>\n    </tr>\n    <tr>\n      <th>4</th>\n      <td>200004</td>\n      <td>0.184970</td>\n      <td>0.112109</td>\n      <td>0.009844</td>\n      <td>0.043541</td>\n      <td>0.000868</td>\n      <td>0.001207</td>\n      <td>0.000535</td>\n      <td>6.782468e-05</td>\n      <td>0.003513</td>\n      <td>0.181516</td>\n      <td>0.005141</td>\n      <td>0.000098</td>\n      <td>0.004253</td>\n      <td>2.173743e-05</td>\n      <td>0.000870</td>\n      <td>0.451399</td>\n      <td>4.663891e-05</td>\n    </tr>\n    <tr>\n      <th>...</th>\n      <td>...</td>\n      <td>...</td>\n      <td>...</td>\n      <td>...</td>\n      <td>...</td>\n      <td>...</td>\n      <td>...</td>\n      <td>...</td>\n      <td>...</td>\n      <td>...</td>\n      <td>...</td>\n      <td>...</td>\n      <td>...</td>\n      <td>...</td>\n      <td>...</td>\n      <td>...</td>\n      <td>...</td>\n      <td>...</td>\n    </tr>\n    <tr>\n      <th>99995</th>\n      <td>299995</td>\n      <td>0.007390</td>\n      <td>0.201525</td>\n      <td>0.000602</td>\n      <td>0.000949</td>\n      <td>0.000314</td>\n      <td>0.000004</td>\n      <td>0.000266</td>\n      <td>1.094715e-06</td>\n      <td>0.000976</td>\n      <td>0.000049</td>\n      <td>0.000164</td>\n      <td>0.000069</td>\n      <td>0.000022</td>\n      <td>3.889440e-06</td>\n      <td>0.000035</td>\n      <td>0.787620</td>\n      <td>9.697313e-06</td>\n    </tr>\n    <tr>\n      <th>99996</th>\n      <td>299996</td>\n      <td>0.035382</td>\n      <td>0.028899</td>\n      <td>0.006962</td>\n      <td>0.066568</td>\n      <td>0.003230</td>\n      <td>0.000008</td>\n      <td>0.000051</td>\n      <td>2.671587e-05</td>\n      <td>0.002364</td>\n      <td>0.001491</td>\n      <td>0.004374</td>\n      <td>0.002854</td>\n      <td>0.000353</td>\n      <td>2.708185e-06</td>\n      <td>0.000525</td>\n      <td>0.846883</td>\n      <td>2.621933e-05</td>\n    </tr>\n    <tr>\n      <th>99997</th>\n      <td>299997</td>\n      <td>0.030457</td>\n      <td>0.060531</td>\n      <td>0.006176</td>\n      <td>0.024441</td>\n      <td>0.001240</td>\n      <td>0.000438</td>\n      <td>0.000118</td>\n      <td>2.122848e-05</td>\n      <td>0.006115</td>\n      <td>0.000579</td>\n      <td>0.001066</td>\n      <td>0.000032</td>\n      <td>0.000125</td>\n      <td>3.280689e-06</td>\n      <td>0.007324</td>\n      <td>0.861329</td>\n      <td>4.945855e-06</td>\n    </tr>\n    <tr>\n      <th>99998</th>\n      <td>299998</td>\n      <td>0.032706</td>\n      <td>0.162959</td>\n      <td>0.002091</td>\n      <td>0.024371</td>\n      <td>0.000502</td>\n      <td>0.000045</td>\n      <td>0.000097</td>\n      <td>4.593626e-05</td>\n      <td>0.003704</td>\n      <td>0.008968</td>\n      <td>0.002619</td>\n      <td>0.000277</td>\n      <td>0.000373</td>\n      <td>1.968168e-05</td>\n      <td>0.004693</td>\n      <td>0.756467</td>\n      <td>6.225682e-05</td>\n    </tr>\n    <tr>\n      <th>99999</th>\n      <td>299999</td>\n      <td>0.026808</td>\n      <td>0.043837</td>\n      <td>0.002614</td>\n      <td>0.059041</td>\n      <td>0.012695</td>\n      <td>0.000045</td>\n      <td>0.000198</td>\n      <td>1.572881e-04</td>\n      <td>0.001521</td>\n      <td>0.005142</td>\n      <td>0.011624</td>\n      <td>0.002969</td>\n      <td>0.000769</td>\n      <td>6.680152e-06</td>\n      <td>0.000821</td>\n      <td>0.831719</td>\n      <td>3.404509e-05</td>\n    </tr>\n  </tbody>\n</table>\n<p>100000 rows × 18 columns</p>\n</div>"
          },
          "metadata": {}
        }
      ],
      "id": "ME5l9wqv4C1x"
    }
  ]
}